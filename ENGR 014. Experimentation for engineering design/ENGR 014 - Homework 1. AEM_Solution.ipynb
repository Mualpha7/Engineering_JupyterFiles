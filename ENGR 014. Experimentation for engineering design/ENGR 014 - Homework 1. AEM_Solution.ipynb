{
 "cells": [
  {
   "cell_type": "markdown",
   "metadata": {},
   "source": [
    "## Euler Project Problem 1"
   ]
  },
  {
   "cell_type": "markdown",
   "metadata": {},
   "source": [
    "### 1. Using loops:"
   ]
  },
  {
   "cell_type": "code",
   "execution_count": 1,
   "metadata": {
    "collapsed": false
   },
   "outputs": [
    {
     "name": "stdout",
     "output_type": "stream",
     "text": [
      "Answer = 233168\n"
     ]
    }
   ],
   "source": [
    "total = 0\n",
    "for i in range(1,1000):\n",
    "    if i%3 == 0:\n",
    "        total += i\n",
    "    elif i%5 == 0:\n",
    "        total += i\n",
    "print \"Answer = %d\" % total"
   ]
  },
  {
   "cell_type": "markdown",
   "metadata": {},
   "source": [
    "### 2. Using numpy n-dimensional arrays (ndarray):"
   ]
  },
  {
   "cell_type": "code",
   "execution_count": 2,
   "metadata": {
    "collapsed": false
   },
   "outputs": [],
   "source": [
    "# First enable access to the numpy library using the shorthand \"np\"\n",
    "import numpy as np"
   ]
  },
  {
   "cell_type": "code",
   "execution_count": 3,
   "metadata": {
    "collapsed": false
   },
   "outputs": [
    {
     "name": "stdout",
     "output_type": "stream",
     "text": [
      "Answer = 233168\n"
     ]
    }
   ],
   "source": [
    "x = np.arange(1,1000)   # x will be a numpy ndarray (or simply, array)\n",
    "div_by_3 = x%3   # a numpy array containing remainders after division by 3\n",
    "div_by_5 = x%5   # a numpy array containing remainders after division by 5\n",
    "boolean_index = (div_by_3 == 0)|(div_by_5 == 0) # True if divisible by 3 or 5, False otherwise\n",
    "selected = x[boolean_index]  # create a numpy array containing only those elements from x divisible by 3 or 5\n",
    "total = selected.sum()  # using the sum method (function) available to numpy objects\n",
    "print \"Answer = %d\" % total"
   ]
  },
  {
   "cell_type": "markdown",
   "metadata": {},
   "source": [
    "#### Things we can do with numpy arrays:"
   ]
  },
  {
   "cell_type": "code",
   "execution_count": 4,
   "metadata": {
    "collapsed": false
   },
   "outputs": [
    {
     "name": "stdout",
     "output_type": "stream",
     "text": [
      "object_type = <type 'numpy.ndarray'>, data_type = int64\n",
      "mean = 500.36, std_dev = 288.26, minimum = 3, maximum = 999\n"
     ]
    }
   ],
   "source": [
    "object_type = type(selected)\n",
    "data_type = selected.dtype\n",
    "mean = selected.mean()\n",
    "std_dev = selected.std()\n",
    "minimum = selected.min()\n",
    "maximum = selected.max()\n",
    "print \"object_type = %s, data_type = %s\\nmean = %1.2f, std_dev = %1.2f, minimum = %d, maximum = %d\" % (object_type,data_type,mean,std_dev,minimum,maximum)"
   ]
  },
  {
   "cell_type": "markdown",
   "metadata": {},
   "source": [
    "<h2>Euler Project Problem 2</h2>\n",
    "\n",
    "<h3>Using loops and a list:</h3>"
   ]
  },
  {
   "cell_type": "code",
   "execution_count": 1,
   "metadata": {
    "collapsed": false
   },
   "outputs": [
    {
     "name": "stdout",
     "output_type": "stream",
     "text": [
      "Answer = 4613732\n"
     ]
    }
   ],
   "source": [
    "fib = [1,2]  # create the list and give it two initializing values of the fibonnaci series\n",
    "i = 2\n",
    "while True:\n",
    "    next_fib = fib[i-2]+fib[i-1]\n",
    "    if next_fib > 4e6:         #when the next fibonacci number exceeds the limit, STOP\n",
    "        break\n",
    "    else:\n",
    "        fib.append(next_fib)   # use the list object's append method (function) to grow the list\n",
    "        i += 1\n",
    "total = 0\n",
    "for num in fib:  # num will iterate over all the values in the fibonnaci series stored in list fib\n",
    "    if num % 2 == 0:      # check whether the number is even\n",
    "        total += num      # if so, add it to the total\n",
    "print \"Answer = %d\" % total\n",
    "    "
   ]
  },
  {
   "cell_type": "markdown",
   "metadata": {},
   "source": [
    "Using a function with recursion:"
   ]
  },
  {
   "cell_type": "code",
   "execution_count": 2,
   "metadata": {
    "collapsed": false
   },
   "outputs": [
    {
     "name": "stdout",
     "output_type": "stream",
     "text": [
      "Answer = 4613732\n"
     ]
    }
   ],
   "source": [
    "def fibonacci(n):\n",
    "    if n == 1:\n",
    "        return 1\n",
    "    elif n == 2:\n",
    "        return 2\n",
    "    else:\n",
    "        return fibonacci(n-1) + fibonacci(n-2)\n",
    "\n",
    "i=1    # an index for the fibonacci sequence\n",
    "total = 0\n",
    "fib = 0\n",
    "while fib <= 4e6:\n",
    "    fib = fibonacci(i)    \n",
    "    if(fib%2 == 0):\n",
    "        total += fib\n",
    "    i+=1\n",
    "print \"Answer = %d\" % total"
   ]
  },
  {
   "cell_type": "markdown",
   "metadata": {},
   "source": [
    "## <h2>Euler Project Problem 4</h2>  <h3>Showing how to convert a list to a numpy array<br /> and three different ways to compute the maximum</h3>"
   ]
  },
  {
   "cell_type": "code",
   "execution_count": 7,
   "metadata": {
    "collapsed": false
   },
   "outputs": [
    {
     "name": "stdout",
     "output_type": "stream",
     "text": [
      "Answer using builtin max function on list = 906609\n",
      "Answer using builtin max function on array = 906609\n",
      "Answer using numpy max method = 906609\n"
     ]
    }
   ],
   "source": [
    "palindrome = []\n",
    "for i in range(999,99,-1):     # now we are solving for 3-digit numbers\n",
    "    for j in range(999,99,-1):\n",
    "        test = i*j\n",
    "        string = str(test)\n",
    "        if test >= 100000:  # we have a 6 digit number\n",
    "            if string[0]==string[5] and string[1]==string[4] and string[2]==string[3]:\n",
    "                palindrome.append(test)\n",
    "        else:   # we have a 5 digit number\n",
    "            if string[0]==string[4] and string[1]==string[3]:\n",
    "                palindrome.append(test)\n",
    "answer_using_builtin_max_function_on_list = max(palindrome)\n",
    "arr = np.array(palindrome)\n",
    "answer_using_builtin_max_function_on_array = max(arr)  # max is a \"polymorphic\" function\n",
    "answer_using_numpy_max_method = arr.max()   # all numpy arrays have a built-in max method\n",
    "print \"Answer using builtin max function on list = %d\" % answer_using_builtin_max_function_on_list\n",
    "print \"Answer using builtin max function on array = %d\" % answer_using_builtin_max_function_on_array\n",
    "print \"Answer using numpy max method = %d\" % answer_using_numpy_max_method\n",
    "    "
   ]
  },
  {
   "cell_type": "code",
   "execution_count": 7,
   "metadata": {
    "collapsed": false
   },
   "outputs": [],
   "source": []
  }
 ],
 "metadata": {
  "kernelspec": {
   "display_name": "Python 2",
   "language": "python",
   "name": "python2"
  },
  "language_info": {
   "codemirror_mode": {
    "name": "ipython",
    "version": 2
   },
   "file_extension": ".py",
   "mimetype": "text/x-python",
   "name": "python",
   "nbconvert_exporter": "python",
   "pygments_lexer": "ipython2",
   "version": "2.7.12"
  }
 },
 "nbformat": 4,
 "nbformat_minor": 0
}
