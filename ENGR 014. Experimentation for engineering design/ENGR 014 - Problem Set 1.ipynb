{
 "cells": [
  {
   "cell_type": "markdown",
   "metadata": {},
   "source": [
    "# Euler Project Problem 1"
   ]
  },
  {
   "cell_type": "code",
   "execution_count": 3,
   "metadata": {
    "collapsed": false
   },
   "outputs": [
    {
     "name": "stdout",
     "output_type": "stream",
     "text": [
      "233168\n"
     ]
    }
   ],
   "source": [
    "answer = 0\n",
    "for i in range(1000):    #We use the Principle of Inclusion-Enclusion\n",
    "    if i%3 == 0:\n",
    "        answer = answer+i    #If i is divisible by 3, then add it to the answer\n",
    "    if i%5 == 0:\n",
    "        answer = answer+i    #If i is divisible by 5, then add it to the answer\n",
    "    if i%15 == 0:\n",
    "        answer = answer-i    #If i is divisible by 3 AND 5, then subtract it from the answer since it was double counted\n",
    "print answer\n",
    "    "
   ]
  },
  {
   "cell_type": "markdown",
   "metadata": {},
   "source": [
    "# Euler Project Problem 2"
   ]
  },
  {
   "cell_type": "code",
   "execution_count": 5,
   "metadata": {
    "collapsed": false
   },
   "outputs": [
    {
     "name": "stdout",
     "output_type": "stream",
     "text": [
      "4613732\n"
     ]
    }
   ],
   "source": [
    "fib = [1,2]  \n",
    "i = 2\n",
    "while True:                     #We make a list of all Fibonacci numbers smaller than four million\n",
    "    next_fib = fib[i-2]+fib[i-1]    #Definition of Fibonacci number\n",
    "    if next_fib > 4000000:    #Check that number is smaller than four million\n",
    "        break                 #If it is not, then exit while loop\n",
    "    else:                     #If it is, then...\n",
    "        fib.append(next_fib)  #Add it to the list of Fibonacci numbers\n",
    "        i += 1    #Increase index by one\n",
    "        \n",
    "answer = 0               #Add all numbers that are even\n",
    "for i in fib:    #For all numbers in the list of Fibonacci numbers...\n",
    "    if i%2 == 0:             #If i is even, then...\n",
    "        answer = answer+i    #Add it to the answer\n",
    "        \n",
    "print answer"
   ]
  },
  {
   "cell_type": "markdown",
   "metadata": {},
   "source": [
    "# Euler Project Problem 4"
   ]
  },
  {
   "cell_type": "code",
   "execution_count": 7,
   "metadata": {
    "collapsed": false
   },
   "outputs": [
    {
     "name": "stdout",
     "output_type": "stream",
     "text": [
      "906609\n"
     ]
    }
   ],
   "source": [
    "palindrome = []\n",
    "for i in range(999,99,-1):         #Multiply all three digit numbers...\n",
    "    for j in range(999,99,-1):     #to each other\n",
    "        test = i*j         \n",
    "        string = str(test)    #Convert number to string so we can compare individual digits to each other\n",
    "        if test >= 100000:    #If number has six digits\n",
    "            if string[0]==string[5] and string[1]==string[4] and string[2]==string[3]:    #Check if number is palindrome\n",
    "                palindrome.append(test)    #Add to the list of palindromes\n",
    "        else:    #If number has five digits\n",
    "            if string[0]==string[4] and string[1]==string[3]:    #Check if number is palindrome\n",
    "                palindrome.append(test)    #Add to the list of palindromes\n",
    "\n",
    "answer = max(palindrome)    #Find the largest element in the list of palindromes\n",
    "print answer"
   ]
  },
  {
   "cell_type": "code",
   "execution_count": null,
   "metadata": {
    "collapsed": true
   },
   "outputs": [],
   "source": []
  }
 ],
 "metadata": {
  "kernelspec": {
   "display_name": "Python 2",
   "language": "python",
   "name": "python2"
  },
  "language_info": {
   "codemirror_mode": {
    "name": "ipython",
    "version": 2
   },
   "file_extension": ".py",
   "mimetype": "text/x-python",
   "name": "python",
   "nbconvert_exporter": "python",
   "pygments_lexer": "ipython2",
   "version": "2.7.12"
  }
 },
 "nbformat": 4,
 "nbformat_minor": 2
}
