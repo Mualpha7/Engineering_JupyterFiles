{
 "cells": [
  {
   "cell_type": "markdown",
   "metadata": {},
   "source": [
    "# Problem 12.21 from Ogunnaike"
   ]
  },
  {
   "cell_type": "code",
   "execution_count": 64,
   "metadata": {
    "collapsed": true
   },
   "outputs": [],
   "source": [
    "%matplotlib inline\n",
    "from pylab import *\n",
    "import numpy as np\n",
    "import pandas as pd   \n",
    "import matplotlib.pyplot as plt"
   ]
  },
  {
   "cell_type": "code",
   "execution_count": 17,
   "metadata": {
    "collapsed": false
   },
   "outputs": [
    {
     "data": {
      "text/html": [
       "<div>\n",
       "<table border=\"1\" class=\"dataframe\">\n",
       "  <thead>\n",
       "    <tr style=\"text-align: right;\">\n",
       "      <th></th>\n",
       "      <th>SafetyToll</th>\n",
       "    </tr>\n",
       "  </thead>\n",
       "  <tbody>\n",
       "    <tr>\n",
       "      <th>0</th>\n",
       "      <td>0.05</td>\n",
       "    </tr>\n",
       "    <tr>\n",
       "      <th>1</th>\n",
       "      <td>0.15</td>\n",
       "    </tr>\n",
       "    <tr>\n",
       "      <th>2</th>\n",
       "      <td>0.18</td>\n",
       "    </tr>\n",
       "    <tr>\n",
       "      <th>3</th>\n",
       "      <td>0.30</td>\n",
       "    </tr>\n",
       "    <tr>\n",
       "      <th>4</th>\n",
       "      <td>0.43</td>\n",
       "    </tr>\n",
       "    <tr>\n",
       "      <th>5</th>\n",
       "      <td>0.57</td>\n",
       "    </tr>\n",
       "    <tr>\n",
       "      <th>6</th>\n",
       "      <td>0.65</td>\n",
       "    </tr>\n",
       "    <tr>\n",
       "      <th>7</th>\n",
       "      <td>0.68</td>\n",
       "    </tr>\n",
       "    <tr>\n",
       "      <th>8</th>\n",
       "      <td>0.70</td>\n",
       "    </tr>\n",
       "    <tr>\n",
       "      <th>9</th>\n",
       "      <td>0.71</td>\n",
       "    </tr>\n",
       "    <tr>\n",
       "      <th>10</th>\n",
       "      <td>0.79</td>\n",
       "    </tr>\n",
       "    <tr>\n",
       "      <th>11</th>\n",
       "      <td>0.96</td>\n",
       "    </tr>\n",
       "    <tr>\n",
       "      <th>12</th>\n",
       "      <td>1.22</td>\n",
       "    </tr>\n",
       "    <tr>\n",
       "      <th>13</th>\n",
       "      <td>1.29</td>\n",
       "    </tr>\n",
       "    <tr>\n",
       "      <th>14</th>\n",
       "      <td>1.31</td>\n",
       "    </tr>\n",
       "    <tr>\n",
       "      <th>15</th>\n",
       "      <td>1.41</td>\n",
       "    </tr>\n",
       "    <tr>\n",
       "      <th>16</th>\n",
       "      <td>1.51</td>\n",
       "    </tr>\n",
       "    <tr>\n",
       "      <th>17</th>\n",
       "      <td>1.62</td>\n",
       "    </tr>\n",
       "    <tr>\n",
       "      <th>18</th>\n",
       "      <td>1.66</td>\n",
       "    </tr>\n",
       "    <tr>\n",
       "      <th>19</th>\n",
       "      <td>1.94</td>\n",
       "    </tr>\n",
       "    <tr>\n",
       "      <th>20</th>\n",
       "      <td>2.68</td>\n",
       "    </tr>\n",
       "    <tr>\n",
       "      <th>21</th>\n",
       "      <td>2.91</td>\n",
       "    </tr>\n",
       "    <tr>\n",
       "      <th>22</th>\n",
       "      <td>3.02</td>\n",
       "    </tr>\n",
       "    <tr>\n",
       "      <th>23</th>\n",
       "      <td>3.17</td>\n",
       "    </tr>\n",
       "    <tr>\n",
       "      <th>24</th>\n",
       "      <td>3.21</td>\n",
       "    </tr>\n",
       "    <tr>\n",
       "      <th>25</th>\n",
       "      <td>3.76</td>\n",
       "    </tr>\n",
       "    <tr>\n",
       "      <th>26</th>\n",
       "      <td>3.90</td>\n",
       "    </tr>\n",
       "    <tr>\n",
       "      <th>27</th>\n",
       "      <td>4.84</td>\n",
       "    </tr>\n",
       "    <tr>\n",
       "      <th>28</th>\n",
       "      <td>6.75</td>\n",
       "    </tr>\n",
       "    <tr>\n",
       "      <th>29</th>\n",
       "      <td>7.26</td>\n",
       "    </tr>\n",
       "  </tbody>\n",
       "</table>\n",
       "</div>"
      ],
      "text/plain": [
       "    SafetyToll\n",
       "0         0.05\n",
       "1         0.15\n",
       "2         0.18\n",
       "3         0.30\n",
       "4         0.43\n",
       "5         0.57\n",
       "6         0.65\n",
       "7         0.68\n",
       "8         0.70\n",
       "9         0.71\n",
       "10        0.79\n",
       "11        0.96\n",
       "12        1.22\n",
       "13        1.29\n",
       "14        1.31\n",
       "15        1.41\n",
       "16        1.51\n",
       "17        1.62\n",
       "18        1.66\n",
       "19        1.94\n",
       "20        2.68\n",
       "21        2.91\n",
       "22        3.02\n",
       "23        3.17\n",
       "24        3.21\n",
       "25        3.76\n",
       "26        3.90\n",
       "27        4.84\n",
       "28        6.75\n",
       "29        7.26"
      ]
     },
     "execution_count": 17,
     "metadata": {},
     "output_type": "execute_result"
    }
   ],
   "source": [
    "frame = pd.read_csv('prob12.21.csv',header=0,delimiter=\",\")  \n",
    "frame"
   ]
  },
  {
   "cell_type": "code",
   "execution_count": 19,
   "metadata": {
    "collapsed": false
   },
   "outputs": [
    {
     "name": "stdout",
     "output_type": "stream",
     "text": [
      "mean = 1.99\n"
     ]
    }
   ],
   "source": [
    "avg = np.mean(frame['SafetyToll'])\n",
    "print \"mean = %4.2f\" % avg"
   ]
  },
  {
   "cell_type": "code",
   "execution_count": 57,
   "metadata": {
    "collapsed": false
   },
   "outputs": [
    {
     "data": {
      "text/plain": [
       "<matplotlib.text.Text at 0x7fd5a7e5d050>"
      ]
     },
     "execution_count": 57,
     "metadata": {},
     "output_type": "execute_result"
    },
    {
     "data": {
      "image/png": "[encoded data removed]",
      "text/plain": [
       "<matplotlib.figure.Figure at 0x7fd5a81a2190>"
      ]
     },
     "metadata": {},
     "output_type": "display_data"
    }
   ],
   "source": [
    "#Normed Histogram\n",
    "t = np.arange(0,8,0.01)   # numpy array for horizontal axis of sample distribution\n",
    "f = frame['SafetyToll']\n",
    "#tau = float(0.5)\n",
    "#f = (1.0/tau)*np.exp(-t/tau) # fraction of molecules exiting tank at time t\n",
    "\n",
    "bin_array = np.arange(0,8,0.25)  # numpy array containing histogram bins\n",
    "plt.hist(f,normed=True,bins=bin_array)  # create histogram of simulated times\n",
    "f.plot(kind='kde', style='k--')\n",
    "plt.title(\"Time between safety violations\",fontsize=20)\n",
    "plt.xlabel(\"Months\",fontsize=20)\n",
    "plt.ylabel(\"Periods of time w/o safety violations\",fontsize=15)"
   ]
  },
  {
   "cell_type": "code",
   "execution_count": 65,
   "metadata": {
    "collapsed": false
   },
   "outputs": [
    {
     "data": {
      "text/plain": [
       "{'boxes': [<matplotlib.lines.Line2D at 0x7fd5a7bf8490>],\n",
       " 'caps': [<matplotlib.lines.Line2D at 0x7fd5a7c9c2d0>,\n",
       "  <matplotlib.lines.Line2D at 0x7fd5a7c9c910>],\n",
       " 'fliers': [<matplotlib.lines.Line2D at 0x7fd5a7c765d0>],\n",
       " 'means': [],\n",
       " 'medians': [<matplotlib.lines.Line2D at 0x7fd5a7c9cf50>],\n",
       " 'whiskers': [<matplotlib.lines.Line2D at 0x7fd5a82bee90>,\n",
       "  <matplotlib.lines.Line2D at 0x7fd5a7bf8c50>]}"
      ]
     },
     "execution_count": 65,
     "metadata": {},
     "output_type": "execute_result"
    },
    {
     "data": {
      "image/png": "[encoded data removed]",
      "text/plain": [
       "<matplotlib.figure.Figure at 0x7fd5aead8e90>"
      ]
     },
     "metadata": {},
     "output_type": "display_data"
    }
   ],
   "source": [
    "# horizontal boxes\n",
    "f = frame['SafetyToll']\n",
    "figure()\n",
    "boxplot(f,0,'rs',0)"
   ]
  },
  {
   "cell_type": "code",
   "execution_count": 77,
   "metadata": {
    "collapsed": false
   },
   "outputs": [
    {
     "data": {
      "text/plain": [
       "{'boxes': [<matplotlib.lines.Line2D at 0x7fd5a78fbb10>],\n",
       " 'caps': [<matplotlib.lines.Line2D at 0x7fd5a76aa150>,\n",
       "  <matplotlib.lines.Line2D at 0x7fd5a76a19d0>],\n",
       " 'fliers': [<matplotlib.lines.Line2D at 0x7fd5a7539f10>],\n",
       " 'means': [],\n",
       " 'medians': [<matplotlib.lines.Line2D at 0x7fd5a7539090>],\n",
       " 'whiskers': [<matplotlib.lines.Line2D at 0x7fd5a78fb2d0>,\n",
       "  <matplotlib.lines.Line2D at 0x7fd5a787b450>]}"
      ]
     },
     "execution_count": 77,
     "metadata": {},
     "output_type": "execute_result"
    },
    {
     "data": {
      "image/png": "[encoded data removed]",
      "text/plain": [
       "<matplotlib.figure.Figure at 0x7fd5a73c9ad0>"
      ]
     },
     "metadata": {},
     "output_type": "display_data"
    },
    {
     "data": {
      "image/png": "[encoded data removed]",
      "text/plain": [
       "<matplotlib.figure.Figure at 0x7fd5a7399fd0>"
      ]
     },
     "metadata": {},
     "output_type": "display_data"
    },
    {
     "data": {
      "image/png": "[encoded data removed]",
      "text/plain": [
       "<matplotlib.figure.Figure at 0x7fd5a7918250>"
      ]
     },
     "metadata": {},
     "output_type": "display_data"
    }
   ],
   "source": [
    "frame = pd.read_csv('prob12.21part2oa.csv',header=0,delimiter=\",\")  \n",
    "frame\n",
    "\n",
    "f1 = frame['OperatorA']\n",
    "figure()\n",
    "boxplot(f1,0,'rs',0)\n",
    "\n",
    "frame = pd.read_csv('prob12.21part2ob.csv',header=0,delimiter=\",\")  \n",
    "frame\n",
    "\n",
    "f2 = frame['OperatorB']\n",
    "figure()\n",
    "boxplot(f2,0,'rs',0)\n",
    "\n",
    "frame = pd.read_csv('prob12.21part2oc.csv',header=0,delimiter=\",\")  \n",
    "frame\n",
    "\n",
    "f3 = frame['OperatorC']\n",
    "figure()\n",
    "boxplot(f3,0,'rs',0)"
   ]
  }
 ],
 "metadata": {
  "kernelspec": {
   "display_name": "Python 2",
   "language": "python",
   "name": "python2"
  },
  "language_info": {
   "codemirror_mode": {
    "name": "ipython",
    "version": 2
   },
   "file_extension": ".py",
   "mimetype": "text/x-python",
   "name": "python",
   "nbconvert_exporter": "python",
   "pygments_lexer": "ipython2",
   "version": "2.7.12"
  }
 },
 "nbformat": 4,
 "nbformat_minor": 2
}
