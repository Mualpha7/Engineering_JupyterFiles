{
 "cells": [
  {
   "cell_type": "markdown",
   "metadata": {},
   "source": [
    "# A Few Python Essentials for E14 Exercise #1"
   ]
  },
  {
   "cell_type": "markdown",
   "metadata": {},
   "source": [
    "## Python integers, floats, and strings"
   ]
  },
  {
   "cell_type": "code",
   "execution_count": 4,
   "metadata": {
    "collapsed": false
   },
   "outputs": [
    {
     "name": "stdout",
     "output_type": "stream",
     "text": [
      "BEWARE:  k = 3.75  is not equal to 3.75\n",
      "because decimal places are TRUNCATED with integer division\n",
      "3.75\n"
     ]
    }
   ],
   "source": [
    "# integers:  Note: anything following a '#' is a comment and is IGNORED\n",
    "i = 15   # assign an integer to i\n",
    "j = 4.0    # assign an integer to j\n",
    "k = i/j  # perform INTEGER division\n",
    "print \"BEWARE:  k = %0.2f  is not equal to 3.75\" % k  # %d for integer (truncated), and 0.xf for x decimal values (rounded)\n",
    "print \"because decimal places are TRUNCATED with integer division\"\n",
    "k = i/float(j)\n",
    "print k"
   ]
  },
  {
   "cell_type": "code",
   "execution_count": 5,
   "metadata": {
    "collapsed": false
   },
   "outputs": [
    {
     "name": "stdout",
     "output_type": "stream",
     "text": [
      "now k = 3.750 equals 3.75 and n =    3.7500 as well\n"
     ]
    }
   ],
   "source": [
    "# floats:\n",
    "i = 15   # still an integer\n",
    "j = float(4)  # now it's a float\n",
    "m = 4.0       # a simpler way to assure \"floating point division\"\n",
    "k = i/j\n",
    "n = i/m\n",
    "print \"now k = %0.3f equals 3.75 and n = %9.4f as well\" % (k,n) # %x.yf will grab at least x spaces to the left\n",
    "# Note formatting %0.3f means at least 0 wide with exactly 3 decimal places\n",
    "#      and %9.4f means at least 9 wide with exactly 4 decimal places\n",
    "# Such formatting is often used to generate nicely formatted tables"
   ]
  },
  {
   "cell_type": "code",
   "execution_count": 17,
   "metadata": {
    "collapsed": false
   },
   "outputs": [
    {
     "name": "stdout",
     "output_type": "stream",
     "text": [
      "information stored as text\n",
      "3.1415926535\n",
      "3.1415926535\n",
      "6\n",
      "6.0\n",
      "3\n"
     ]
    }
   ],
   "source": [
    "# Strings\n",
    "b = \"information stored as text\"\n",
    "c = \"3.1415926535\"  # numbers can also be represented as text\n",
    "d = \"6\"\n",
    "print b\n",
    "print c\n",
    "print float(c)  # this interprets the string as a float\n",
    "print int(d)    # this interprets the string as an integer\n",
    "print float(d)  # this interprets the string as a float\n",
    "# print float(b)  # but this will fail with an error (when it fails, it stops)\n",
    "# print int(b)    # and this would fail if the previous error did not stop the program\n",
    "# print int(c)    # and this would fail, too\n",
    "print int(float(c))"
   ]
  },
  {
   "cell_type": "markdown",
   "metadata": {},
   "source": [
    "## Python list:"
   ]
  },
  {
   "cell_type": "code",
   "execution_count": 20,
   "metadata": {
    "collapsed": false
   },
   "outputs": [
    {
     "data": {
      "text/plain": [
       "[2, 5, 7, 'hello', True, 3.5, 1.2]"
      ]
     },
     "execution_count": 20,
     "metadata": {},
     "output_type": "execute_result"
    }
   ],
   "source": [
    "# A (not very useful) list demonstrating that the Python \"list\" is a container for anything\n",
    "alist = [2,5,7,'hello',True,3.5,1.2]\n",
    "alist #if you you do not use the print statement in the last line of an \"In\" box, then it creates an \"Out\" box"
   ]
  },
  {
   "cell_type": "code",
   "execution_count": 23,
   "metadata": {
    "collapsed": false
   },
   "outputs": [
    {
     "name": "stdout",
     "output_type": "stream",
     "text": [
      "alist[0] = 2, alist[3] = hello, alist[4] = True, alist[6] = 1.2\n"
     ]
    }
   ],
   "source": [
    "# IMPORTANT:  Python indexing begins at ZERO !!!  (not 1 as in Matlab)\n",
    "print \"alist[0] = %s, alist[3] = %s, alist[4] = %s, alist[6] = %s\" % (alist[0],alist[3],\n",
    "                                                                      alist[4],alist[6])\n",
    "# news:  in Python, reference elements of collection (lists, arrays, etc.) \n",
    "#        using BRACKETS, not paretheses\n",
    "# more news:  %s (strings/literals) can be used as a default output format for anything, but you\n",
    "#           have more control with %d (integers/decimal) and %f (floating point) if you want \n",
    "#           nicely formatted output.\n",
    "# finally: note below that the output of a print statement in Jupyter does NOT generate\n",
    "#          a numbered Out[] line"
   ]
  },
  {
   "cell_type": "markdown",
   "metadata": {},
   "source": [
    "### An easy way to create a more useful list:"
   ]
  },
  {
   "cell_type": "code",
   "execution_count": 33,
   "metadata": {
    "collapsed": false
   },
   "outputs": [
    {
     "name": "stdout",
     "output_type": "stream",
     "text": [
      "[0, 1, 2, 3, 4, 5, 6, 7, 8, 9]\n",
      "[1, 2, 3, 4, 5, 6, 7, 8, 9, 10]\n",
      "[0, 2, 4, 6, 8, 10]\n"
     ]
    }
   ],
   "source": [
    "print range(10) # \"range(x)\" is a built-in Python statement/function that lists numbers from 0 to x-1\n",
    "# NOTE:  the list contains integers up to BUT NOT INCLUDING 10\n",
    "print range(1,11)\n",
    "print range(0,11,2)"
   ]
  },
  {
   "cell_type": "markdown",
   "metadata": {},
   "source": [
    "## The \"for loop\" (with application to Project Euler problem #1):"
   ]
  },
  {
   "cell_type": "code",
   "execution_count": 35,
   "metadata": {
    "collapsed": false
   },
   "outputs": [
    {
     "name": "stdout",
     "output_type": "stream",
     "text": [
      "Divisible by 3 and strictly less than 10:\n",
      "0, \n",
      "3, \n",
      "6, \n",
      "9, \n"
     ]
    }
   ],
   "source": [
    "print \"Divisible by 3 and strictly less than 10:\"\n",
    "for i in range(10):   # Note that \"for loops\" always iterate over a Python \"list\"\n",
    "    if i%3 == 0:\n",
    "        print \"%d, \" % i  # each time print is used, a new line is created\n",
    "        # you can put a comma after i above to keep the output on a single line (try it)"
   ]
  },
  {
   "cell_type": "markdown",
   "metadata": {},
   "source": [
    "## The \"while loop\" (with application to Project Euler problem #2):"
   ]
  },
  {
   "cell_type": "code",
   "execution_count": 38,
   "metadata": {
    "collapsed": false
   },
   "outputs": [
    {
     "data": {
      "text/plain": [
       "[1, 1, 2, 3, 5, 8, 13, 21, 34, 55, 89]"
      ]
     },
     "execution_count": 38,
     "metadata": {},
     "output_type": "execute_result"
    }
   ],
   "source": [
    "fib = [1,1]  # create a list and give it two initializing values\n",
    "i = 2\n",
    "while True:       # repeat the block below \"forever\" or until a \"break\" statement is encountered\n",
    "    next_fib = fib[i-2]+fib[i-1]  # calculate the next element of the fibonacci series\n",
    "    if next_fib > 100:\n",
    "        break     # end the while lood immediately and continue with the first \n",
    "                  # statement after this loop\n",
    "    else:         # otherwise:\n",
    "        fib.append(next_fib)   # use the list object's append method (function) to grow the list\n",
    "        i += 1    # this is the Python way of writing i = i + 1 \n",
    "                  # (replace 1 with 2 to increment by 2, etc.)\n",
    "fib  # display the list to the output"
   ]
  },
  {
   "cell_type": "markdown",
   "metadata": {},
   "source": [
    "## More on generating lists:"
   ]
  },
  {
   "cell_type": "markdown",
   "metadata": {},
   "source": [
    "#### The \"range\" function can generate a decreasing list:"
   ]
  },
  {
   "cell_type": "code",
   "execution_count": 41,
   "metadata": {
    "collapsed": false
   },
   "outputs": [
    {
     "data": {
      "text/plain": [
       "[10, 9, 8, 7, 6, 5, 4, 3, 2, 1]"
      ]
     },
     "execution_count": 41,
     "metadata": {},
     "output_type": "execute_result"
    }
   ],
   "source": [
    "range(10,0,-1)\n",
    "# Note that as above, the endpoint does NOT appear in the list"
   ]
  },
  {
   "cell_type": "markdown",
   "metadata": {},
   "source": [
    "### A decreasing \"for loop\" used to solve the 2-digit version of Project Euler Problem #4"
   ]
  },
  {
   "cell_type": "code",
   "execution_count": 43,
   "metadata": {
    "collapsed": false
   },
   "outputs": [
    {
     "name": "stdout",
     "output_type": "stream",
     "text": [
      "[9009, 8118, 7227, 6336, 5445, 4554, 3663, 2772, 1881, 5335, 8448, 6336, 4224, 2112, 5225, 5115, 9009, 8008, 7007, 6006, 5005, 4004, 3003, 2002, 1001, 979, 8448, 8008, 6776, 6336, 4664, 4224, 2992, 2552, 2112, 2772, 8118, 6006, 858, 7007, 6776, 6006, 5775, 5005, 4774, 4004, 3773, 3003, 2772, 2002, 1771, 1001, 5775, 4884, 2442, 888, 7227, 949, 6336, 4554, 828, 2992, 737, 6336, 6006, 4884, 4554, 4224, 2772, 2442, 2112, 858, 5005, 6336, 4224, 2112, 2772, 4774, 868, 767, 2552, 696, 1881, 969, 616, 5445, 5335, 5225, 5115, 5005, 4664, 2332, 848, 636, 4004, 676, 969, 3773, 686, 4224, 2112, 1551, 4554, 828, 585, 4224, 4004, 2992, 2772, 2552, 2332, 2112, 616, 484, 989, 2772, 656, 3003, 858, 585, 646, 494, 3663, 2442, 1221, 999, 888, 777, 666, 555, 444, 2772, 828, 595, 525, 2992, 646, 3003, 2772, 2442, 2112, 1881, 1551, 1221, 858, 363, 2112, 868, 434, 2552, 696, 464, 2772, 868, 616, 999, 2002, 858, 676, 494, 575, 525, 2112, 888, 696, 1771, 989, 828, 575, 414, 2112, 2002, 858, 616, 484, 242, 777, 525, 252, 1881, 969, 646, 494, 323, 828, 666, 414, 252, 969, 646, 595, 323, 272, 848, 656, 464, 272, 585, 555, 525, 868, 686, 616, 434, 252, 1001, 949, 858, 767, 676, 585, 494, 888, 828, 696, 636, 444, 252, 1001, 979, 858, 737, 616, 484, 363, 242, 121]\n",
      "Answer = 9009\n"
     ]
    }
   ],
   "source": [
    "palindrome = []\n",
    "for i in range(99,9,-1):  # set i=99, 98, 97, ..., 10\n",
    "    for j in range(99,9,-1):\n",
    "        test = i*j         # generate the integer version of a possible palindrome\n",
    "        string = str(test)  # convert the integer to a string to examine \n",
    "                            # each digit of the number\n",
    "        if test >= 1000:  # we have four digits to examine for 1000 ... 9801 = 99*99\n",
    "            if string[0]==string[3] and string[1]==string[2]:\n",
    "                palindrome.append(test)   # use the append method (function) to grow the list\n",
    "        else:  # for numbers < 1000, we have only 3 digits to examine (actually only\n",
    "               # the first and last)\n",
    "            if string[0]==string[2]:\n",
    "                palindrome.append(test)\n",
    "print palindrome\n",
    "answer = max(palindrome)\n",
    "print \"Answer = %d\" % answer"
   ]
  },
  {
   "cell_type": "code",
   "execution_count": null,
   "metadata": {
    "collapsed": true
   },
   "outputs": [],
   "source": []
  }
 ],
 "metadata": {
  "anaconda-cloud": {},
  "kernelspec": {
   "display_name": "Python 2",
   "language": "python",
   "name": "python2"
  },
  "language_info": {
   "codemirror_mode": {
    "name": "ipython",
    "version": 2
   },
   "file_extension": ".py",
   "mimetype": "text/x-python",
   "name": "python",
   "nbconvert_exporter": "python",
   "pygments_lexer": "ipython2",
   "version": "2.7.12"
  }
 },
 "nbformat": 4,
 "nbformat_minor": 0
}
