{
 "cells": [
  {
   "cell_type": "markdown",
   "metadata": {},
   "source": [
    "## Stem and Leaf Plots"
   ]
  },
  {
   "cell_type": "code",
   "execution_count": 1,
   "metadata": {
    "collapsed": false
   },
   "outputs": [
    {
     "name": "stdout",
     "output_type": "stream",
     "text": [
      "Demonstrate our data structure:\n",
      "data0.data =  (12, 127, 28, 42, 39, 113, 42, 18, 44, 118, 44, 37, 113, 124, 37, 48, 127, 36, 29, 31, 125, 139, 131, 115, 105, 132, 104, 123, 35, 113, 122, 42, 117, 119, 58, 109, 23, 105, 63, 27, 44, 105, 99, 41, 128, 121, 116, 125, 32, 61, 37, 127, 29, 113, 121, 58, 114, 126, 53, 114, 96, 25, 109, 7, 31, 141, 46, 13, 27, 43, 117, 116, 27, 7, 68, 40, 31, 115, 124, 42, 128, 52, 71, 118, 117, 38, 27, 106, 33, 117, 116, 111, 40, 119, 47, 105, 57, 122, 109, 124, 115, 43, 120, 43, 27, 27, 18, 28, 48, 125, 107, 114, 34, 133, 45, 120, 30, 127, 31, 116, 146)\n",
      "data0.leafdigits =  1.0\n",
      "\n",
      "Stem and Leaf Plot:\n",
      "Important: Note the 'Stem Multiplier Key' below the plot!\n",
      "\n",
      " 0 | 7 7\n",
      " 1 | 2 3 8 8\n",
      " 2 | 3 5 7 7 7 7 7 7 8 8 9 9\n",
      " 3 | 0 1 1 1 1 2 3 4 5 6 7 7 7 8 9\n",
      " 4 | 0 0 1 2 2 2 2 3 3 3 4 4 4 5 6 7 8 8\n",
      " 5 | 2 3 7 8 8\n",
      " 6 | 1 3 8\n",
      " 7 | 1\n",
      " 8 |\n",
      " 9 | 6 9\n",
      "10 | 4 5 5 5 5 6 7 9 9 9\n",
      "11 | 1 3 3 3 3 4 4 4 5 5 5 6 6 6 6 7 7 7 7 8 8 9 9\n",
      "12 | 0 0 1 1 2 2 3 4 4 4 5 5 5 6 7 7 7 7 8 8\n",
      "13 | 1 2 3 9\n",
      "14 | 1 6\n",
      "\n",
      "Key:\n",
      " Stem multiplier: 10\n",
      " X | Y  =>  10*X+Y to obtain original data\n",
      "\n"
     ]
    }
   ],
   "source": [
    "from collections import namedtuple\n",
    "from math import floor\n",
    "\n",
    "# this call to the namedtuple() function creates a Python class called \"Stem\"\n",
    "# having attributes Stem.data and Stem.leafdigits:\n",
    "Stem = namedtuple('Stem', 'data, leafdigits') \n",
    "\n",
    "# load Stem with data and the number of desired leafdigits: \n",
    "data0 = Stem((12, 127, 28, 42, 39, 113, 42, 18, 44, 118, 44, 37, 113, 124, 37,\n",
    "              48, 127, 36, 29, 31, 125, 139, 131, 115, 105, 132, 104, 123, 35,\n",
    "              113, 122, 42, 117, 119, 58, 109, 23, 105, 63, 27, 44, 105, 99,\n",
    "              41, 128, 121, 116, 125, 32, 61, 37, 127, 29, 113, 121, 58, 114,\n",
    "              126, 53, 114, 96, 25, 109, 7, 31, 141, 46, 13, 27, 43, 117, 116,\n",
    "              27, 7, 68, 40, 31, 115, 124, 42, 128, 52, 71, 118, 117, 38, 27,\n",
    "              106, 33, 117, 116, 111, 40, 119, 47, 105, 57, 122, 109, 124, 115,\n",
    "              43, 120, 43, 27, 27, 18, 28, 48, 125, 107, 114, 34, 133, 45, 120,\n",
    "              30, 127, 31, 116, 146),\n",
    "             1.0)\n",
    "\n",
    "# demonstrate what we have with a Python \"namedtupel\" object\n",
    "print \"Demonstrate our data structure:\"\n",
    "print \"data0.data = \", data0.data    # this holds the actual data that are plotted\n",
    "print \"data0.leafdigits = \", data0.leafdigits # this holds the number of leaf digits to use\n",
    "print  # print a blank line\n",
    "print \"Stem and Leaf Plot:\"\n",
    "print \"Important: Note the 'Stem Multiplier Key' below the plot!\"\n",
    "\n",
    "# Define a function to generate the plot:\n",
    "def stemplot(stem):\n",
    "    d = []\n",
    "    interval = int(10**int(stem.leafdigits))\n",
    "    for data in sorted(stem.data):\n",
    "        data = int(floor(data))\n",
    "        stm, lf = divmod(data,interval)\n",
    "        d.append( (int(stm), int(lf)) )\n",
    "    stems, leafs = list(zip(*d))\n",
    "    stemwidth = max(len(str(x)) for x in stems)\n",
    "    leafwidth = max(len(str(x)) for x in leafs)\n",
    "    laststem, out = min(stems) - 1, []\n",
    "    for s,l in d:\n",
    "        while laststem < s:\n",
    "            laststem += 1\n",
    "            out.append('\\n%*i |' % ( stemwidth, laststem))\n",
    "        out.append(' %0*i' % (leafwidth, l))\n",
    "    out.append('\\n\\nKey:\\n Stem multiplier: %i\\n X | Y  =>  %i*X+Y to obtain original data\\n'\n",
    "               % (interval, interval))\n",
    "    return ''.join(out)\n",
    "\n",
    "# Call the stemplot function and print the graph\n",
    "# Note: this is a simple text plot - matplotlib is not necessary\n",
    "\n",
    "print( stemplot(data0) )"
   ]
  },
  {
   "cell_type": "code",
   "execution_count": null,
   "metadata": {
    "collapsed": false
   },
   "outputs": [],
   "source": []
  }
 ],
 "metadata": {
  "kernelspec": {
   "display_name": "Python 2",
   "language": "python",
   "name": "python2"
  },
  "language_info": {
   "codemirror_mode": {
    "name": "ipython",
    "version": 2
   },
   "file_extension": ".py",
   "mimetype": "text/x-python",
   "name": "python",
   "nbconvert_exporter": "python",
   "pygments_lexer": "ipython2",
   "version": "2.7.12"
  }
 },
 "nbformat": 4,
 "nbformat_minor": 0
}
