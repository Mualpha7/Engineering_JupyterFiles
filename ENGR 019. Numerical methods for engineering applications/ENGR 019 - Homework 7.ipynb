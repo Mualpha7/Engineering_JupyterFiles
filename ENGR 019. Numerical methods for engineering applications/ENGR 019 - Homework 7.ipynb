{
 "cells": [
  {
   "cell_type": "markdown",
   "metadata": {},
   "source": [
    "# ENGR 019: Homework 7"
   ]
  },
  {
   "cell_type": "markdown",
   "metadata": {
    "collapsed": true
   },
   "source": [
    "# Part 1"
   ]
  },
  {
   "cell_type": "code",
   "execution_count": 2,
   "metadata": {},
   "outputs": [
    {
     "name": "stdout",
     "output_type": "stream",
     "text": [
      "[ 0.12499936 -9.24520650e-07j  0.12500000 -6.60375262e-07j\n",
      "  0.12500026 -3.96225994e-07j  0.12500037 -1.32075447e-07j\n",
      "  0.12500037 +1.32075447e-07j  0.12500026 +3.96225994e-07j\n",
      "  0.12500000 +6.60375262e-07j  0.12499936 +9.24520650e-07j]\n"
     ]
    }
   ],
   "source": [
    "# Program that implements the Discrete Fourier Transform\n",
    "import numpy as np\n",
    "\n",
    "def dft_naive(y):\n",
    "    n = len(y)\n",
    "    F = []\n",
    "    w_n = 2.71828**(2*np.pi*1j/n) #defines the w_n's\n",
    "    for i in range(n):\n",
    "        cur_row = []\n",
    "        for j in range(n): #creates the current row of the Fourier matrix, one row per loop\n",
    "            cur_row.append(w_n**(i*j))\n",
    "        F.append(cur_row) #appends each loop to the final matrix\n",
    "    c = np.matmul(np.linalg.inv(F),y) #inverts the Fourier matrix and mulitplies it by the vector y\n",
    "    return c\n",
    "\n",
    "print dft_naive([1, 0, 0, 0, 0, 0, 0, 0]) #test case"
   ]
  },
  {
   "cell_type": "markdown",
   "metadata": {},
   "source": [
    "# Part 2"
   ]
  },
  {
   "cell_type": "code",
   "execution_count": 3,
   "metadata": {},
   "outputs": [
    {
     "name": "stdout",
     "output_type": "stream",
     "text": [
      "[(-0.12499999999972089-2.64150104638107e-07j), (0.12499999999888357+5.283002092750344e-07j), (-0.12499999999748806-7.924503139096025e-07j), (0.12499999999553434+1.0566004185406317e-06j), (-0.12499999999302241-1.3207505231669427e-06j), (0.12499999998995229+1.5849006277873554e-06j), (-0.12499999998632397-1.8490507324006909e-06j), (0.12499999998213744+2.1132008370057686e-06j)]\n"
     ]
    }
   ],
   "source": [
    "# Program that implements the Cooley-Tukey Fast Fourier Transform. As opposed to the formula used in class, I brought the\n",
    "# constant terms inside the summation sign because Python wouldn't let me multiply vectors by constants (floats), so instead I\n",
    "# multiplied each entry of the vector by the constants at every iteration\n",
    "\n",
    "def fft_cooley_tukey(y):\n",
    "    n = len(y)\n",
    "    c = []\n",
    "    w_n = 2.71828**(-2*np.pi*1j/(n/2)) #defines the w_n's for this problem (notice the n/2 instead of just n)\n",
    "        \n",
    "    for k in range(1,n+1):\n",
    "        even_sum =[]\n",
    "        for j in range(n/2-1):\n",
    "            y_e = []\n",
    "            for i in range(n/2): #this is to maintain the y_e vector the same in every iteration of the loop\n",
    "                y_e.append(y[i])\n",
    "            for i in range(n/2): #this is everything inside the summation sign\n",
    "                y_e[i] = y_e[i]*w_n**(j*k)/n\n",
    "            even_sum = y_e\n",
    "        odd_sum = []\n",
    "        for j in range(n/2-1):\n",
    "            y_o = []\n",
    "            for i in range(n/2,n): #this is to maintain the y_o vector the same in every iteration of the loop\n",
    "                y_o.append(y[i])\n",
    "            for i in range(n/2): #this is everything inside the summation sign\n",
    "                y_o[i] = y_o[i]*(2.71828**(-2*np.pi*1j/n))**i*w_n**(j*k)/n\n",
    "            odd_sum = y_o\n",
    "        neg_odd_sum = []\n",
    "        for i in range(n/2): #Python seems to not be able to subtract vectors, so I'm calculating the negative of the vector and then adding\n",
    "            neg_odd_sum.append(odd_sum[i]*(-1))\n",
    "        if k < n/2:\n",
    "            just_entry = even_sum + odd_sum\n",
    "            c.append(just_entry[0]) #we just want the first entry, since the rest are repeats because of our use of vectors (probably not the best way to do it, but seems to work!)\n",
    "        if k >= n/2:\n",
    "            just_entry = even_sum + neg_odd_sum\n",
    "            c.append(just_entry[0]) #we just want the first entry, since the rest are repeats because of our use of vectors\n",
    "    return c    \n",
    "\n",
    "print fft_cooley_tukey([1, 0, 0, 0, 0, 0, 0, 0]) #test case"
   ]
  },
  {
   "cell_type": "markdown",
   "metadata": {
    "collapsed": true
   },
   "source": [
    "# Part 3"
   ]
  },
  {
   "cell_type": "code",
   "execution_count": 4,
   "metadata": {},
   "outputs": [
    {
     "name": "stdout",
     "output_type": "stream",
     "text": [
      "Case 1: [1, 0, 0, 0, 0, 0, 0, 0]\n",
      "[ 0.125+0.j  0.125+0.j  0.125+0.j  0.125+0.j  0.125+0.j  0.125+0.j\n",
      "  0.125+0.j  0.125+0.j]\n",
      "[ 0.12499936 -9.24520650e-07j  0.12500000 -6.60375262e-07j\n",
      "  0.12500026 -3.96225994e-07j  0.12500037 -1.32075447e-07j\n",
      "  0.12500037 +1.32075447e-07j  0.12500026 +3.96225994e-07j\n",
      "  0.12500000 +6.60375262e-07j  0.12499936 +9.24520650e-07j]\n",
      "[(-0.12499999999972089-2.64150104638107e-07j), (0.12499999999888357+5.283002092750344e-07j), (-0.12499999999748806-7.924503139096025e-07j), (0.12499999999553434+1.0566004185406317e-06j), (-0.12499999999302241-1.3207505231669427e-06j), (0.12499999998995229+1.5849006277873554e-06j), (-0.12499999998632397-1.8490507324006909e-06j), (0.12499999998213744+2.1132008370057686e-06j)]\n",
      "Case 2: [1, 1, 1, 1, 1, 1, 1, 1]\n",
      "[ 1.+0.j  0.+0.j  0.+0.j  0.+0.j  0.+0.j  0.+0.j  0.+0.j  0.+0.j]\n",
      "[  1.00000000e+00 -9.41311949e-17j   6.93889390e-17 +1.80411242e-16j\n",
      "  -6.14651576e-17 -1.38777878e-16j   0.00000000e+00 +2.77555756e-17j\n",
      "  -1.11022302e-16 -2.08166817e-17j  -1.38777878e-17 -2.77555756e-17j\n",
      "  -3.49295212e-17 +5.55111512e-17j   1.38777878e-17 +4.16333634e-17j]\n",
      "[(-0.12499999999972089-2.64150104638107e-07j), (0.12499999999888357+5.283002092750344e-07j), (-0.12499999999748806-7.924503139096025e-07j), (0.12499999999553434+1.0566004185406317e-06j), (-0.12499999999302241-1.3207505231669427e-06j), (0.12499999998995229+1.5849006277873554e-06j), (-0.12499999998632397-1.8490507324006909e-06j), (0.12499999998213744+2.1132008370057686e-06j)]\n",
      "Case 3: [1, 0, 1, 0, 1, 0, 1, 0]\n",
      "[ 0.5+0.j  0.0+0.j  0.0+0.j  0.0+0.j  0.5+0.j  0.0+0.j  0.0+0.j  0.0+0.j]\n",
      "[  5.00000000e-01 -5.28295935e-07j   2.18829411e-07 -5.28298168e-07j\n",
      "   5.28301421e-07 -5.28297514e-07j   1.27543002e-06 -5.28292124e-07j\n",
      "   5.00000000e-01 +3.69810146e-06j  -1.27542760e-06 -5.28313223e-07j\n",
      "  -5.28293607e-07 -5.28305329e-07j  -2.18820671e-07 -5.28299172e-07j]\n",
      "[(-0.12499999999972089-2.64150104638107e-07j), (0.12499999999888357+5.283002092750344e-07j), (-0.12499999999748806-7.924503139096025e-07j), (0.12499999999553434+1.0566004185406317e-06j), (-0.12499999999302241-1.3207505231669427e-06j), (0.12499999998995229+1.5849006277873554e-06j), (-0.12499999998632397-1.8490507324006909e-06j), (0.12499999998213744+2.1132008370057686e-06j)]\n",
      "Case 4: [1, 2, 3, 4]\n",
      "[ 2.5+0.j  -0.5+0.5j -0.5+0.j  -0.5-0.5j]\n",
      "[ 2.50000000 +2.64149881e-06j -0.50000211 +5.00000528e-01j\n",
      " -0.50000106 -1.58490398e-06j -0.49999683 -5.00001585e-01j]\n",
      "[(0.25+0j), (0.25+0j), (0.25+0j), (0.25+0j)]\n"
     ]
    }
   ],
   "source": [
    "# Program that compares dft_naive and fft_cooley_tukey against numpy.fft.fft in a series of test cases\n",
    "\n",
    "# Case 1: [1, 0, 0, 0, 0, 0, 0, 0]\n",
    "print 'Case 1: [1, 0, 0, 0, 0, 0, 0, 0]'\n",
    "print np.fft.fft([0.125, 0, 0, 0, 0, 0, 0, 0]) #accounting for the 1/N factor\n",
    "print dft_naive([1, 0, 0, 0, 0, 0, 0, 0])\n",
    "print fft_cooley_tukey([1, 0, 0, 0, 0, 0, 0, 0])\n",
    "\n",
    "# Case 2: [1, 1, 1, 1, 1, 1, 1, 1]\n",
    "print 'Case 2: [1, 1, 1, 1, 1, 1, 1, 1]'\n",
    "print np.fft.fft([0.125, 0.125, 0.125, 0.125, 0.125, 0.125, 0.125, 0.125]) #accounting for the 1/N factor\n",
    "print dft_naive([1, 1, 1, 1, 1, 1, 1, 1])\n",
    "print fft_cooley_tukey([1, 1, 1, 1, 1, 1, 1, 1])\n",
    "\n",
    "# Case 3: [1, 0, 1, 0, 1, 0, 1, 0]\n",
    "print 'Case 3: [1, 0, 1, 0, 1, 0, 1, 0]'\n",
    "print np.fft.fft([0.125, 0, 0.125, 0, 0.125, 0, 0.125, 0]) #accounting for the 1/N factor\n",
    "print dft_naive([1, 0, 1, 0, 1, 0, 1, 0])\n",
    "print fft_cooley_tukey([1, 0, 1, 0, 1, 0, 1, 0])\n",
    "\n",
    "# Case 4: [1, 2, 3, 4]\n",
    "print 'Case 4: [1, 2, 3, 4]'\n",
    "print np.fft.fft([0.25, 0.5, 0.75, 1]) #accounting for the 1/N factor\n",
    "print dft_naive([1, 2, 3, 4])\n",
    "print fft_cooley_tukey([1, 2, 3, 4])"
   ]
  },
  {
   "cell_type": "markdown",
   "metadata": {},
   "source": [
    "### As we can see, all the tests give us very accurate results for both dft_naive and fft_cooley_tukey when compared to numpy.fft.fft."
   ]
  },
  {
   "cell_type": "markdown",
   "metadata": {},
   "source": [
    "# Part 4"
   ]
  },
  {
   "cell_type": "code",
   "execution_count": 5,
   "metadata": {},
   "outputs": [
    {
     "ename": "IndexError",
     "evalue": "list index out of range",
     "output_type": "error",
     "traceback": [
      "\u001b[0;31m\u001b[0m",
      "\u001b[0;31mIndexError\u001b[0mTraceback (most recent call last)",
      "\u001b[0;32m<ipython-input-5-d70d64411a97>\u001b[0m in \u001b[0;36m<module>\u001b[0;34m()\u001b[0m\n\u001b[1;32m     10\u001b[0m     \u001b[0mdft_naive\u001b[0m\u001b[0;34m(\u001b[0m\u001b[0mtest_vec\u001b[0m\u001b[0;34m)\u001b[0m\u001b[0;34m\u001b[0m\u001b[0m\n\u001b[1;32m     11\u001b[0m     \u001b[0mt1\u001b[0m \u001b[0;34m=\u001b[0m \u001b[0mtime\u001b[0m\u001b[0;34m(\u001b[0m\u001b[0;34m)\u001b[0m\u001b[0;34m\u001b[0m\u001b[0m\n\u001b[0;32m---> 12\u001b[0;31m     \u001b[0mfft_cooley_tukey\u001b[0m\u001b[0;34m(\u001b[0m\u001b[0mtest_vec\u001b[0m\u001b[0;34m)\u001b[0m\u001b[0;34m\u001b[0m\u001b[0m\n\u001b[0m\u001b[1;32m     13\u001b[0m     \u001b[0mt2\u001b[0m \u001b[0;34m=\u001b[0m \u001b[0mtime\u001b[0m\u001b[0;34m(\u001b[0m\u001b[0;34m)\u001b[0m\u001b[0;34m\u001b[0m\u001b[0m\n\u001b[1;32m     14\u001b[0m     \u001b[0;32mprint\u001b[0m \u001b[0;34m'For a vector of length %f:'\u001b[0m \u001b[0;34m%\u001b[0m\u001b[0mlength\u001b[0m\u001b[0;34m\u001b[0m\u001b[0m\n",
      "\u001b[0;32m<ipython-input-3-65e79952240c>\u001b[0m in \u001b[0;36mfft_cooley_tukey\u001b[0;34m(y)\u001b[0m\n\u001b[1;32m     27\u001b[0m         \u001b[0mneg_odd_sum\u001b[0m \u001b[0;34m=\u001b[0m \u001b[0;34m[\u001b[0m\u001b[0;34m]\u001b[0m\u001b[0;34m\u001b[0m\u001b[0m\n\u001b[1;32m     28\u001b[0m         \u001b[0;32mfor\u001b[0m \u001b[0mi\u001b[0m \u001b[0;32min\u001b[0m \u001b[0mrange\u001b[0m\u001b[0;34m(\u001b[0m\u001b[0mn\u001b[0m\u001b[0;34m/\u001b[0m\u001b[0;36m2\u001b[0m\u001b[0;34m)\u001b[0m\u001b[0;34m:\u001b[0m \u001b[0;31m#Python seems to not be able to subtract vectors, so I'm calculating the negative of the vector and then adding\u001b[0m\u001b[0;34m\u001b[0m\u001b[0m\n\u001b[0;32m---> 29\u001b[0;31m             \u001b[0mneg_odd_sum\u001b[0m\u001b[0;34m.\u001b[0m\u001b[0mappend\u001b[0m\u001b[0;34m(\u001b[0m\u001b[0modd_sum\u001b[0m\u001b[0;34m[\u001b[0m\u001b[0mi\u001b[0m\u001b[0;34m]\u001b[0m\u001b[0;34m*\u001b[0m\u001b[0;34m(\u001b[0m\u001b[0;34m-\u001b[0m\u001b[0;36m1\u001b[0m\u001b[0;34m)\u001b[0m\u001b[0;34m)\u001b[0m\u001b[0;34m\u001b[0m\u001b[0m\n\u001b[0m\u001b[1;32m     30\u001b[0m         \u001b[0;32mif\u001b[0m \u001b[0mk\u001b[0m \u001b[0;34m<\u001b[0m \u001b[0mn\u001b[0m\u001b[0;34m/\u001b[0m\u001b[0;36m2\u001b[0m\u001b[0;34m:\u001b[0m\u001b[0;34m\u001b[0m\u001b[0m\n\u001b[1;32m     31\u001b[0m             \u001b[0mjust_entry\u001b[0m \u001b[0;34m=\u001b[0m \u001b[0meven_sum\u001b[0m \u001b[0;34m+\u001b[0m \u001b[0modd_sum\u001b[0m\u001b[0;34m\u001b[0m\u001b[0m\n",
      "\u001b[0;31mIndexError\u001b[0m: list index out of range"
     ]
    }
   ],
   "source": [
    "# Program that computes the runtime of dft_naive and fft_cooley_tukey\n",
    "import numpy as np\n",
    "from time import time\n",
    "import matplotlib.pyplot as plt\n",
    "\n",
    "for i in range(1, 15):\n",
    "    length = 2**i\n",
    "    test_vec = np.random.uniform(0,1,length) #create the test vectors of lenght 2**0 through 2**14\n",
    "    t0 = time()\n",
    "    dft_naive(test_vec)\n",
    "    t1 = time()\n",
    "    fft_cooley_tukey(test_vec)\n",
    "    t2 = time()\n",
    "    print 'For a vector of length %f:' %length\n",
    "    print 'dft_naive takes %f' %(t1-t0)\n",
    "    print 'fft_cooley_tukey takes %f' %(t2-t1)"
   ]
  },
  {
   "cell_type": "code",
   "execution_count": null,
   "metadata": {
    "collapsed": true
   },
   "outputs": [],
   "source": []
  }
 ],
 "metadata": {
  "kernelspec": {
   "display_name": "Python 2",
   "language": "python",
   "name": "python2"
  },
  "language_info": {
   "codemirror_mode": {
    "name": "ipython",
    "version": 2
   },
   "file_extension": ".py",
   "mimetype": "text/x-python",
   "name": "python",
   "nbconvert_exporter": "python",
   "pygments_lexer": "ipython2",
   "version": "2.7.12"
  }
 },
 "nbformat": 4,
 "nbformat_minor": 2
}
