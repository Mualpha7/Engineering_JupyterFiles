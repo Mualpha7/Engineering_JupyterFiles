{
 "cells": [
  {
   "cell_type": "markdown",
   "metadata": {},
   "source": [
    "# In-class exercises: 03/29/2018"
   ]
  },
  {
   "cell_type": "code",
   "execution_count": 38,
   "metadata": {},
   "outputs": [
    {
     "name": "stdout",
     "output_type": "stream",
     "text": [
      "1e-06\n",
      "-0.00996578428466\n"
     ]
    }
   ],
   "source": [
    "import numpy as np\n",
    "#N**2\n",
    "print 10**(-3) * 10**(-3)\n",
    "#NlogN\n",
    "print 10**(-3) * np.log2(10**(-3))"
   ]
  },
  {
   "cell_type": "code",
   "execution_count": 34,
   "metadata": {},
   "outputs": [
    {
     "name": "stdout",
     "output_type": "stream",
     "text": [
      "21\n"
     ]
    }
   ],
   "source": [
    "def find_fib(N):\n",
    "    #base case\n",
    "    if (N==0) or (N==1):\n",
    "        return 1\n",
    "    #general case\n",
    "    else:\n",
    "        previous = find_fib(N-1)\n",
    "        previous1 = find_fib(N-2)\n",
    "        return previous + previous1\n",
    "    \n",
    "print find_fib(7)"
   ]
  },
  {
   "cell_type": "code",
   "execution_count": 47,
   "metadata": {},
   "outputs": [
    {
     "name": "stdout",
     "output_type": "stream",
     "text": [
      "32\n"
     ]
    }
   ],
   "source": [
    "def power_2(N):\n",
    "    #base case\n",
    "    if (N==0):\n",
    "        return 1\n",
    "    #general case\n",
    "    else:\n",
    "        return power_2(N-1) * 2\n",
    "    \n",
    "print power_2(5)"
   ]
  },
  {
   "cell_type": "code",
   "execution_count": null,
   "metadata": {
    "collapsed": true
   },
   "outputs": [],
   "source": [
    "#Exercise: Implement Merge Sort.\n",
    "import numpy as np\n",
    "\n",
    "def merge_sort(n):\n",
    "    sortedlist = []\n",
    "    #base case\n",
    "    if len(n1)==1 and len(n2)==1:\n",
    "        if n1[0] > n2[0]:\n",
    "            return n2[0]\n",
    "        if n1[0] < n2[0]:\n",
    "            return n1[0]\n",
    "        if n1[0] == n2[0]:\n",
    "            return n1[0] #twice\n",
    "        \n",
    "    for i in np.arange(0,len(n)+1):\n",
    "        #dot dot dot\n",
    "        \n",
    "    #separating the array\n",
    "    n1 = []\n",
    "    for i in np.arange(0,(len(n)/2)+1):\n",
    "            n1.append(n[i])\n",
    "    merge_sort(n1)\n",
    "    \n",
    "    n2 = []\n",
    "    for i in np.arange((len(n)/2)+1,n+1):\n",
    "            n2.append(n[i])\n",
    "    merge_sort(n2)\n",
    "    \n",
    "    \n",
    "    "
   ]
  }
 ],
 "metadata": {
  "kernelspec": {
   "display_name": "Python 2",
   "language": "python",
   "name": "python2"
  },
  "language_info": {
   "codemirror_mode": {
    "name": "ipython",
    "version": 2
   },
   "file_extension": ".py",
   "mimetype": "text/x-python",
   "name": "python",
   "nbconvert_exporter": "python",
   "pygments_lexer": "ipython2",
   "version": "2.7.12"
  }
 },
 "nbformat": 4,
 "nbformat_minor": 2
}
