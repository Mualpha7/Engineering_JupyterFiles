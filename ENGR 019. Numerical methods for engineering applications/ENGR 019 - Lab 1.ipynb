{
 "cells": [
  {
   "cell_type": "markdown",
   "metadata": {},
   "source": [
    "# ENGR 019 Lab 1: Estimating $\\pi$"
   ]
  },
  {
   "cell_type": "markdown",
   "metadata": {},
   "source": [
    "#  Monte Carlo Method"
   ]
  },
  {
   "cell_type": "code",
   "execution_count": 84,
   "metadata": {},
   "outputs": [
    {
     "name": "stdout",
     "output_type": "stream",
     "text": [
      "3.14157973174\n",
      "3.1415\n",
      "671\n"
     ]
    }
   ],
   "source": [
    "import numpy as np\n",
    "import math\n",
    "\n",
    "def mcpi(n):\n",
    "    if n < 1: #make sure the user is giving us at least one dart\n",
    "        return \"Please input an integer greater than zero\"\n",
    "    \n",
    "    counter = 0.0 #set a counter to zero (float) to start counting how many darts are inside the unit circle\n",
    "    for i in range (1,n): #every time we throw a dart, we generate a new random set of coordinates\n",
    "        x_rand = np.random.random_sample() #this will give us x coordinate of dart, uniformly distributed across [0,1)\n",
    "        y_rand = np.random.random_sample() #this will give us y coordinate of dart, uniformly distributed across [0,1)\n",
    "\n",
    "        if ((x_rand**2)+(y_rand**2)) < 1: #condition to be inside the unit circle\n",
    "            counter += 1 #increase the counter by one if the condition is met\n",
    "\n",
    "    pi = 4*(counter/n) #estimate pi using the formula in the lab instructions\n",
    "    return pi\n",
    "\n",
    "for k in range(1,10000): #we keep on trying larger numbers until we get a pi estimate that is accurate enough\n",
    "    num = mcpi(k) #estimate pi using algorithm above\n",
    "    min_num = k #at every iteration, update minimum number needed to reach desired accuracy level\n",
    "    if int(num * 10000)/10000.0 == 3.1415: #if our number has the first 4 digits (after the decimal dot) coinciding with pi's, then we stop the loop\n",
    "         break\n",
    "\n",
    "print num #sanity check: make sure we actually reached the goal\n",
    "print int(num * 10000)/10000.0 #sanity check: make sure our truncating expression is not messing things up\n",
    "print min_num #minimum number of darts needed to extimate pi to its fourth digit"
   ]
  },
  {
   "cell_type": "markdown",
   "metadata": {},
   "source": [
    "## Approach for Monte Carlo Method:\n",
    "\n",
    "First, I implemented the $mcpi(n)$ function to estimate the value of $\\pi$ based on how many uniformly randomly generated darts, thrown at the unit square, ended up inside the unit circle. I did this by uniformly randomly generating values for the $x$ and $y$ coordinates using the function $np.random.random\\_sample()$ and then checking if the point with those coordinates was inside the unit circle or not, adding $1$ to a counter each time if it did. After I made sure the function was working properly, I started trying out values for $n$, using ranges starting at $1$ until $10$, $100$, $1,000$, and so on. I found that the program gave me accurate values of $\\pi$ most of the time, up to the fourth digit, when I allowed for a range of higher than $1,000$. I ended up using a range of $10,000$ just to give myself more room for potential outliers where mcpi(n) didn't reach an accurate to the $4$th digit estimate until long after $1,000$.\n",
    "\n",
    "My results for estimates of $\\pi$ from the $10$ trials are:\n",
    "\n",
    "| Trial | Estimate of $\\pi$ |\n",
    "|-------|-------------------|\n",
    "|   1   |         671       |\n",
    "|   2   |         904       |\n",
    "|   3   |        1081       |\n",
    "|   4   |         438       |\n",
    "|   5   |         219       |\n",
    "|   6   |        1575       |\n",
    "|   7   |         424       |\n",
    "|   8   |        2670       |\n",
    "|   9   |        1286       |\n",
    "|  10   |         671       |\n",
    "\n",
    "Interestingly enough, the first and last trials gave back the same result. The average number of darts needed to be thrown in order to get $\\pi$ accurate to the fourth digit after the decimal dot was $993.9$."
   ]
  },
  {
   "cell_type": "markdown",
   "metadata": {},
   "source": [
    "# Integration by Riemann Sums"
   ]
  },
  {
   "cell_type": "code",
   "execution_count": 95,
   "metadata": {},
   "outputs": [
    {
     "name": "stdout",
     "output_type": "stream",
     "text": [
      "Estimations: \n",
      "3.30451832625\n",
      "3.1782685111\n",
      "3.16041703178\n",
      "3.145487477\n",
      "3.14355546691\n",
      "3.14198932743\n",
      "Errors: \n",
      "0.162925672659\n",
      "0.0366758575087\n",
      "0.0188243781893\n",
      "0.00389482341234\n",
      "0.00196281332123\n",
      "0.000396673840792\n"
     ]
    },
    {
     "data": {
      "image/png": "[encoded data removed]",
      "text/plain": [
       "<matplotlib.figure.Figure at 0x7f34e0134ed0>"
      ]
     },
     "metadata": {},
     "output_type": "display_data"
    }
   ],
   "source": [
    "import numpy as np\n",
    "import matplotlib.pyplot as plt\n",
    "import math\n",
    "\n",
    "def intpi(n):\n",
    "    if n < 1: #make sure the user is giving us at least one summation factor, otherwise it doesn't contribute to the summation\n",
    "        return 0\n",
    "    \n",
    "    del_x = 1.0/n #step size for approximating the integral (the 1 is a float to allow for decimal division)\n",
    "    summ = 0.0 #initialize summation variable to store f(x_i) as i grows\n",
    "    for i in range(0, n): #we use this \"for\" loop to obtain the summation factor\n",
    "        x_i = del_x * i #defintion of x_i\n",
    "        summ += math.sqrt(1-x_i**2) #in every iteration, add the current value of f(x_i) to the summation\n",
    "    integ = del_x * summ #formula for the approximation of the integral\n",
    "    \n",
    "    pi = 4 * integ #formula to approximate pi using the given formula\n",
    "    return pi\n",
    "\n",
    "print \"Estimations: \" #we print out all the values for the requested step sizes\n",
    "print intpi(10)\n",
    "print intpi(50)\n",
    "print intpi(100)\n",
    "print intpi(500)\n",
    "print intpi(1000)\n",
    "print intpi(5000)\n",
    "print \"Errors: \" #we also print out all the values for the errors\n",
    "print math.fabs(np.pi-intpi(10))\n",
    "print math.fabs(np.pi-intpi(50))\n",
    "print math.fabs(np.pi-intpi(100))\n",
    "print math.fabs(np.pi-intpi(500))\n",
    "print math.fabs(np.pi-intpi(1000))\n",
    "print math.fabs(np.pi-intpi(5000))\n",
    "\n",
    "step_size = [] #compute the values for x-axis of plot and put them in an array\n",
    "for i in range(1,5000):\n",
    "    step_size.append(1.0/i)\n",
    "\n",
    "errors = []\n",
    "for i in range(1,5000): #compute the values for y-axis of plot and put them in an array\n",
    "    errors.append(math.fabs(np.pi-intpi(i)))\n",
    "\n",
    "plt.figure()\n",
    "plt.loglog(step_size,errors, '-g') #plotting using a log-log plot\n",
    "plt.xlabel('Step Size $\\Delta x$')\n",
    "plt.ylabel('Error in estimate of $\\pi$')\n",
    "plt.show()"
   ]
  },
  {
   "cell_type": "markdown",
   "metadata": {},
   "source": [
    "## Approach for Integration by Riemann Sums:\n",
    "\n",
    "We computed the integral using the given formula. First, we calculated the value of the summation factor for the given $n$ using a \"for\" loop and the formula $f(x) = \\sqrt{1-x_i^2}$, and then we simply put that summation factor into the formula for the integral $\\int_{0}^{1} f(x) dx$. Afterwards, we proceeded to print out all the values of $intpi(n)$ for the requested $n$ values. Lastly, we created two arrays to store the values of the $x$ and $y$ axis of the log-log plot, and proceeded to plot the graph.\n",
    "\n",
    "Our results for estimates of $\\pi$ from the requested step sizes were:\n",
    "\n",
    "|    n   | Estimate of $\\pi$ |      Error      |\n",
    "|--------|-------------------|-----------------|\n",
    "|10      |3.30451832625      |0.162925672659   |\n",
    "|50      |3.1782685111       |0.0366758575087  |\n",
    "|100     |3.16041703178      |0.0188243781893  |\n",
    "|500     |3.145487477        |0.00389482341234 |\n",
    "|1000    |3.14355546691      |0.00196281332123 |\n",
    "|5000    |3.14198932743      |0.000396673840792|\n",
    "\n",
    "The graph shows us that, the smaller the step size $\\Delta x$, the smaller the error in the estimation of $\\pi$  is."
   ]
  },
  {
   "cell_type": "markdown",
   "metadata": {},
   "source": [
    "# Taylor Series"
   ]
  },
  {
   "cell_type": "code",
   "execution_count": 11,
   "metadata": {},
   "outputs": [
    {
     "name": "stdout",
     "output_type": "stream",
     "text": [
      "Estimations with tspi1(n): \n",
      "4.0\n",
      "2.66666666667\n",
      "3.46666666667\n",
      "2.89523809524\n",
      "3.33968253968\n",
      "2.97604617605\n",
      "3.28373848374\n",
      "3.01707181707\n",
      "3.25236593472\n",
      "3.04183961893\n",
      "3.23231580941\n",
      "3.05840276593\n",
      "3.21840276593\n",
      "3.07025461778\n",
      "3.20818565226\n",
      "3.0791533942\n",
      "3.20036551541\n",
      "3.08607980112\n",
      "3.19418790923\n",
      "3.09162380667\n",
      "Errors with with tspi1(n): \n",
      "0.85840734641\n",
      "0.474925986923\n",
      "0.325074013077\n",
      "0.246354558352\n",
      "0.198089886093\n",
      "0.165546477544\n",
      "0.142145830149\n",
      "0.124520836518\n",
      "0.110773281129\n",
      "0.0997530346604\n",
      "0.0907231558158\n",
      "0.0831898876625\n",
      "0.0768101123375\n",
      "0.0713380358106\n",
      "0.0665929986722\n",
      "0.0624392593924\n",
      "0.0587728618198\n",
      "0.055512852466\n",
      "0.0525952556421\n",
      "0.049968846922\n",
      "Estimations with tspi2(n): \n",
      "3.18326359833\n",
      "3.14059702933\n",
      "3.14162102933\n",
      "3.14159177218\n",
      "3.1415926824\n",
      "3.14159265262\n",
      "3.14159265362\n",
      "3.14159265359\n",
      "3.14159265359\n",
      "3.14159265359\n",
      "3.14159265359\n",
      "3.14159265359\n",
      "3.14159265359\n",
      "3.14159265359\n",
      "3.14159265359\n",
      "3.14159265359\n",
      "3.14159265359\n",
      "3.14159265359\n",
      "3.14159265359\n",
      "3.14159265359\n",
      "Errors with with tspi2(n): \n",
      "0.0416709447366\n",
      "0.000995624263733\n",
      "2.83757352415e-05\n",
      "8.81407615783e-07\n",
      "2.88146062566e-08\n",
      "9.74484493099e-10\n",
      "3.37618821789e-11\n",
      "1.19060317161e-12\n",
      "4.30766533555e-14\n",
      "8.881784197e-16\n",
      "8.881784197e-16\n",
      "8.881784197e-16\n",
      "8.881784197e-16\n",
      "8.881784197e-16\n",
      "8.881784197e-16\n",
      "8.881784197e-16\n",
      "8.881784197e-16\n",
      "8.881784197e-16\n",
      "8.881784197e-16\n",
      "8.881784197e-16\n"
     ]
    },
    {
     "data": {
      "image/png": "[encoded data removed]",
      "text/plain": [
       "<matplotlib.figure.Figure at 0x7f9b81046410>"
      ]
     },
     "metadata": {},
     "output_type": "display_data"
    }
   ],
   "source": [
    "import numpy as np\n",
    "import matplotlib.pyplot as plt\n",
    "import math\n",
    "\n",
    "def arct(x,n): #define the arctan funciton in terms of the input and the number of terms from the Taylor approximation to be used\n",
    "    arct = 0 #initialize arctan variable to store the final sum\n",
    "    for i in range(1, n+1):\n",
    "        arct += (-1)**(i-1) * float(x**(2*i-1))/float(2*i-1) #add more terms of the Taylor sequence as n gets larger with each iteration\n",
    "    return arct\n",
    "\n",
    "def tspi1(n):\n",
    "    pi = 4 * arct(1.0,n) #formula using the Maclaurin Series\n",
    "    return pi\n",
    "\n",
    "def tspi2(n):\n",
    "    pi = 16 * arct(1.0/5.0,n) - 4 * arct(1.0/239.0,n) #formula using the Maclaurin Series given the Machin Formula\n",
    "    return pi\n",
    "\n",
    "print \"Estimations with tspi1(n): \" #we print out all the values for the requested numbers of Taylor Series terms for tspi1(n)\n",
    "for i in range(1, 21):\n",
    "    print tspi1(i)\n",
    "print \"Errors with with tspi1(n): \" #we also print out all the values for the errors\n",
    "for i in range(1, 21):\n",
    "    print math.fabs(np.pi-tspi1(i))\n",
    "\n",
    "print \"Estimations with tspi2(n): \" #we print out all the values for the requested numbers of Taylor Series terms for tspi2(n)\n",
    "for i in range(1, 21):\n",
    "    print tspi2(i)\n",
    "print \"Errors with with tspi2(n): \" #we also print out all the values for the errors\n",
    "for i in range(1, 21):\n",
    "    print math.fabs(np.pi-tspi2(i))\n",
    "\n",
    "errors1 = [] #initialize array to contain values of tspi1(n) for n=1 to n=20\n",
    "for i in range(1,21): #compute the errors for the tspi1(n) function\n",
    "    errors1.append(math.fabs(np.pi-tspi1(i))) #add current value of tspi1(n) to the array\n",
    "    \n",
    "errors2 = [] #initialize array to contain values of tspi2(n) for n=1 to n=20\n",
    "for i in range(1,21): #compute the errors for the tspi2(n) function\n",
    "    errors2.append(math.fabs(np.pi-tspi2(i))) #add current value of tspi2(n) to the array\n",
    "\n",
    "plt.figure()\n",
    "plt.plot(range(1, 21), errors1, '-g', label=\"Error for $tspi1(n)$\")\n",
    "plt.plot(range(1, 21), errors2, '-b', label=\"Error for $tspi2(n)$\")\n",
    "plt.legend(bbox_to_anchor=(1.05, 1), loc=2, borderaxespad=0.)\n",
    "plt.xlabel('Value of $n$')\n",
    "plt.ylabel('Errors for $tspi1(n)$ and $tspi2(n)$')\n",
    "plt.show()"
   ]
  },
  {
   "cell_type": "markdown",
   "metadata": {},
   "source": [
    "## Approach for Taylor Series\n",
    "\n",
    "First, we write our own arctan function that enables us to not only to compute the value of arctan at a single point, but also specify the degree of accuracy of our approximation by telling it how many terms of the Taylor series to use. Then we proceed to define the functions for both versions of the $\\pi$ approximating formula and use them to print out the values they give from $n=1$ to $n=20$ and the respective values. Lastly, as before, we create arrays to store the error values for ease of plotting, and we proceed to plot the graphs of the errors of the two functions in one plot.\n",
    "\n",
    "The plot really help us understand why the second formula is better. The Machin formula is more accurate than the initial formula because at every value of $n$, it has a much smaller error. Also, the error function for it converges to zero much faster than the error function for initial formula."
   ]
  }
 ],
 "metadata": {
  "kernelspec": {
   "display_name": "Python 2",
   "language": "python",
   "name": "python2"
  },
  "language_info": {
   "codemirror_mode": {
    "name": "ipython",
    "version": 2
   },
   "file_extension": ".py",
   "mimetype": "text/x-python",
   "name": "python",
   "nbconvert_exporter": "python",
   "pygments_lexer": "ipython2",
   "version": "2.7.12"
  }
 },
 "nbformat": 4,
 "nbformat_minor": 2
}
