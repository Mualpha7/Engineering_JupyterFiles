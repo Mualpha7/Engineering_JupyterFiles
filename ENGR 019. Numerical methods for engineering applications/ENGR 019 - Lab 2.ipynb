{
 "cells": [
  {
   "cell_type": "markdown",
   "metadata": {},
   "source": [
    "# Lab 2: Resistor networks"
   ]
  },
  {
   "cell_type": "markdown",
   "metadata": {},
   "source": [
    "## Structure of Function Code\n",
    "\n",
    "We will use the formulas $$A^TCAu = f-A^TCb$$ $$W=C(b-Au)$$ \n",
    "that we derived in class. We will compute and create each matrix at a time and then apply the formula, dealing with special cases as they arise (such as singular matrices or edges with infinite current). The code for the function to solve the resistor network is given below, along with descriptive comments on the structure and rationale for each line of code."
   ]
  },
  {
   "cell_type": "code",
   "execution_count": 22,
   "metadata": {},
   "outputs": [],
   "source": [
    "## Program that solves for currents and voltages in a resistor network, given the components of the network, i.e. \n",
    "## node pairs, voltage and current sources, resistances, and ground node.\n",
    "import numpy as np\n",
    "\n",
    "def solve_resistor_network(N, b, f, g, R):\n",
    "    A = np.zeros((len(b), len(f))) #For our incidence matrix, I find it easier to start with a matrix full of zeroes\n",
    "    for i in range(len(N)): #This is saying that, \"for every row of the matrix A...\"\n",
    "        for j in range(2): #...and \"for every entry of each node pair\" (there's 2 entries, since it is a pair)\n",
    "            if j == 0: #...\"if the node is listed first\"\n",
    "                A[i][N[i][j]] = -1 #...\"then there must be a directed edge leaving the node\" (in the direction of current flow)\n",
    "            if j == 1: #... and \"if the node is listed second\"\n",
    "                A[i][N[i][j]] = 1 #...\"then there must be a directed edge coming into the node\"\n",
    "    \n",
    "    A_t = np.transpose(A) #Once we have A, get A transposed\n",
    "    \n",
    "    c = [] #Now, we create the C matrix\n",
    "    no_res = [] #But since we will be dealing with reciprocals, there's a special case we need to watch out for\n",
    "    for i in range(len(R)):\n",
    "        if R[i] == 0: #If an edge has no resistor, a resistance of zero would give us an infinite conductance\n",
    "            c.append(0) #so we just zero it out (so we can carry on with out our calculations) and make it infinite at the end\n",
    "            no_res.append(i)\n",
    "        else: #all the resistances are inverted to get the reciprocals\n",
    "            c.append(1.0/R[i])\n",
    "    C = np.diag(c) #and we put the reciprocals of the resistances on the diagonal of a matrix\n",
    "    \n",
    "    A_tCA = np.matmul(A_t,np.matmul(C,A))\n",
    "    A_tCb = np.matmul(A_t,np.matmul(C,b))\n",
    "    \n",
    "    if np.linalg.det(A_tCA) == 0: #We acccount for the case where the matrix is not invertible\n",
    "        return \"Matrix A_tCA has determinant zero, so it cannot be inverted to obtain a solution with this formula\"\n",
    "    U = np.matmul(np.linalg.inv(A_tCA),A_tCb-f) #We use the formula derived in class to get the nodal voltages\n",
    "    \n",
    "    U[g] = 0 #We ground our network\n",
    "    W = np.matmul(C,b-np.matmul(A,U)) #We use the formula derived in class to get the edge currents\n",
    "    \n",
    "    for i in range(len(no_res)): #Finally, all the zero resistance edges have infinite current (short circuit)\n",
    "        W[no_res[i]] = float('inf')\n",
    "        \n",
    "    Solution = [U,W] #Python functions can't return two arguments, so we put them in an array \n",
    "    \n",
    "    return Solution"
   ]
  },
  {
   "cell_type": "markdown",
   "metadata": {},
   "source": [
    "#### NOTE: I wrote my function with one more extra input: A list of the resistances in the circuit. I was not able to find a way to solve for the voltages and currents without having the resistances in the input. Ohm's Law says that the resistance is equal to the quotient of the voltage drop through the component and the current through it, but since we are trying to find both the voltages and the currents, we can't also have the resistances as unknowns since it is not possible to derive them from other equations either. Also, without this extra input in the function, we are not really using the resistances given to us in Circuits 1, 2, and 3.\n",
    "\n",
    "\n"
   ]
  },
  {
   "cell_type": "markdown",
   "metadata": {},
   "source": [
    "## Circuit 1"
   ]
  },
  {
   "cell_type": "markdown",
   "metadata": {
    "collapsed": true
   },
   "source": [
    "![Circuit 1](c1.PNG \"Circuit 1\")"
   ]
  },
  {
   "cell_type": "markdown",
   "metadata": {},
   "source": [
    "### INPUT\n",
    "### The edges are given by (1,0), (1,0), (2,1), (2,0), and (0,2), in the direction of current flow.\n",
    "### The voltage sources are given by -40, 0, 0, 0, and 0.\n",
    "### The current sources are given by -1, 0, and 1.\n",
    "### The grounded node is Node 0.\n",
    "### The resistances are given by 2, 10, 9, 4, and 8."
   ]
  },
  {
   "cell_type": "code",
   "execution_count": 19,
   "metadata": {},
   "outputs": [
    {
     "data": {
      "text/plain": [
       "[array([  0.,  21.,   3.]), array([-9.5  ,  2.1  , -2.   ,  0.75 , -0.375])]"
      ]
     },
     "execution_count": 19,
     "metadata": {},
     "output_type": "execute_result"
    }
   ],
   "source": [
    "solve_resistor_network([(1,0),(1,0),(2,1),(2,0),(0,2)],[-40,0,0,0,0],[-1,0,1],0,[2,10,9,4,8])"
   ]
  },
  {
   "cell_type": "markdown",
   "metadata": {},
   "source": [
    "### OUTPUT\n",
    "### The node voltages are given by 0, 21, and 3.\n",
    "### The edge currents are given by 9.5, 2.1, 2, 0.75, and 0.375."
   ]
  },
  {
   "cell_type": "markdown",
   "metadata": {},
   "source": [
    "## Circuit 2"
   ]
  },
  {
   "cell_type": "markdown",
   "metadata": {},
   "source": [
    "![Circuit 2](c2.PNG \"Circuit 2\")"
   ]
  },
  {
   "cell_type": "markdown",
   "metadata": {},
   "source": [
    "### INPUT\n",
    "### The edges are given by (1,0), (0,1), and (0,1), in the direction of current flow.\n",
    "### The voltage sources are given by -30, 0, and 0.\n",
    "### The current sources are given by -2 and 2.\n",
    "### The grounded node is Node 0.\n",
    "### The resistances are given by 5, 3, and 10."
   ]
  },
  {
   "cell_type": "code",
   "execution_count": 26,
   "metadata": {},
   "outputs": [
    {
     "data": {
      "text/plain": [
       "'Matrix A_tCA has determinant zero, so it cannot be inverted to obtain a solution with this formula'"
      ]
     },
     "execution_count": 26,
     "metadata": {},
     "output_type": "execute_result"
    }
   ],
   "source": [
    "solve_resistor_network([(1,0),(0,1),(0,1)],[-30,0,0],[-2,2],0,[5,3,10])"
   ]
  },
  {
   "cell_type": "markdown",
   "metadata": {},
   "source": [
    "### OUTPUT\n",
    "### None. This method cannot be used when the matrix $A^TCA$ is not invertible."
   ]
  },
  {
   "cell_type": "markdown",
   "metadata": {},
   "source": [
    "## Circuit 3"
   ]
  },
  {
   "cell_type": "markdown",
   "metadata": {},
   "source": [
    "![Circuit 3](c3.PNG \"Circuit 3\")"
   ]
  },
  {
   "cell_type": "markdown",
   "metadata": {},
   "source": [
    "### INPUT\n",
    "### The edges are given by (1,0), (2,1), (0,2), and (0,2), in the direction of current flow.\n",
    "### The voltage sources are given by -30, 0, 0, and -10.\n",
    "### The current sources are given by 0, -1 and 1.\n",
    "### The grounded node is Node 0.\n",
    "### The resistances are given by 0, 50, 30, and 10."
   ]
  },
  {
   "cell_type": "code",
   "execution_count": 21,
   "metadata": {},
   "outputs": [
    {
     "data": {
      "text/plain": [
       "[array([  0.,  32.,   0.]), array([  inf, -0.64,  0.  , -1.  ])]"
      ]
     },
     "execution_count": 21,
     "metadata": {},
     "output_type": "execute_result"
    }
   ],
   "source": [
    "solve_resistor_network([(1,0),(2,1),(0,2),(0,2)],[-30,0,0,-10],[0,-1,1],0,[0,50,30,10])"
   ]
  },
  {
   "cell_type": "markdown",
   "metadata": {},
   "source": [
    "### OUTPUT\n",
    "### The node voltages are given by 0, 32, and 0.\n",
    "### The edge currents are given by inf, 0.64, 0, and 1."
   ]
  },
  {
   "cell_type": "markdown",
   "metadata": {},
   "source": [
    "## When does $\\mathrm{solve\\_network\\_resistor}$ fail?"
   ]
  },
  {
   "cell_type": "markdown",
   "metadata": {},
   "source": [
    "![Fail Case](failcase.png \"Fail Case\")"
   ]
  },
  {
   "cell_type": "markdown",
   "metadata": {},
   "source": [
    "### As we have seen in Circuit 2, the code fails to give us an answer when the matrix $A^TCA$ is not invertible, but that is not a shortcoming of our code but rather of the method. An example where our code would fail would be if we had multiple resistors in one edge, as in the modification of Circuit 3 that we have above (say R4 is 40 ohms). This is because the size of matrix $C$ does not coincide with the number of edges in the circuit, because there is an edge with more than one resistor. This is an easy case to fix by adding a few lines of codes to add up resistors in series so we end up with only one resistor at most per edge."
   ]
  },
  {
   "cell_type": "code",
   "execution_count": 28,
   "metadata": {},
   "outputs": [
    {
     "ename": "ValueError",
     "evalue": "shapes (5,5) and (4,3) not aligned: 5 (dim 1) != 4 (dim 0)",
     "output_type": "error",
     "traceback": [
      "\u001b[0;31m\u001b[0m",
      "\u001b[0;31mValueError\u001b[0mTraceback (most recent call last)",
      "\u001b[0;32m<ipython-input-28-1b55225e94e3>\u001b[0m in \u001b[0;36m<module>\u001b[0;34m()\u001b[0m\n\u001b[0;32m----> 1\u001b[0;31m \u001b[0msolve_resistor_network\u001b[0m\u001b[0;34m(\u001b[0m\u001b[0;34m[\u001b[0m\u001b[0;34m(\u001b[0m\u001b[0;36m1\u001b[0m\u001b[0;34m,\u001b[0m\u001b[0;36m0\u001b[0m\u001b[0;34m)\u001b[0m\u001b[0;34m,\u001b[0m\u001b[0;34m(\u001b[0m\u001b[0;36m2\u001b[0m\u001b[0;34m,\u001b[0m\u001b[0;36m1\u001b[0m\u001b[0;34m)\u001b[0m\u001b[0;34m,\u001b[0m\u001b[0;34m(\u001b[0m\u001b[0;36m0\u001b[0m\u001b[0;34m,\u001b[0m\u001b[0;36m2\u001b[0m\u001b[0;34m)\u001b[0m\u001b[0;34m,\u001b[0m\u001b[0;34m(\u001b[0m\u001b[0;36m0\u001b[0m\u001b[0;34m,\u001b[0m\u001b[0;36m2\u001b[0m\u001b[0;34m)\u001b[0m\u001b[0;34m]\u001b[0m\u001b[0;34m,\u001b[0m\u001b[0;34m[\u001b[0m\u001b[0;34m-\u001b[0m\u001b[0;36m30\u001b[0m\u001b[0;34m,\u001b[0m\u001b[0;36m0\u001b[0m\u001b[0;34m,\u001b[0m\u001b[0;36m0\u001b[0m\u001b[0;34m,\u001b[0m\u001b[0;34m-\u001b[0m\u001b[0;36m10\u001b[0m\u001b[0;34m]\u001b[0m\u001b[0;34m,\u001b[0m\u001b[0;34m[\u001b[0m\u001b[0;36m0\u001b[0m\u001b[0;34m,\u001b[0m\u001b[0;34m-\u001b[0m\u001b[0;36m1\u001b[0m\u001b[0;34m,\u001b[0m\u001b[0;36m1\u001b[0m\u001b[0;34m]\u001b[0m\u001b[0;34m,\u001b[0m\u001b[0;36m0\u001b[0m\u001b[0;34m,\u001b[0m\u001b[0;34m[\u001b[0m\u001b[0;36m0\u001b[0m\u001b[0;34m,\u001b[0m\u001b[0;36m50\u001b[0m\u001b[0;34m,\u001b[0m\u001b[0;36m30\u001b[0m\u001b[0;34m,\u001b[0m\u001b[0;36m10\u001b[0m\u001b[0;34m,\u001b[0m\u001b[0;36m40\u001b[0m\u001b[0;34m]\u001b[0m\u001b[0;34m)\u001b[0m\u001b[0;34m\u001b[0m\u001b[0m\n\u001b[0m",
      "\u001b[0;32m<ipython-input-22-c62bdf18f1df>\u001b[0m in \u001b[0;36msolve_resistor_network\u001b[0;34m(N, b, f, g, R)\u001b[0m\n\u001b[1;32m     24\u001b[0m     \u001b[0mC\u001b[0m \u001b[0;34m=\u001b[0m \u001b[0mnp\u001b[0m\u001b[0;34m.\u001b[0m\u001b[0mdiag\u001b[0m\u001b[0;34m(\u001b[0m\u001b[0mc\u001b[0m\u001b[0;34m)\u001b[0m \u001b[0;31m#and we put the reciprocals of the resistances on the diagonal of a matrix\u001b[0m\u001b[0;34m\u001b[0m\u001b[0m\n\u001b[1;32m     25\u001b[0m \u001b[0;34m\u001b[0m\u001b[0m\n\u001b[0;32m---> 26\u001b[0;31m     \u001b[0mA_tCA\u001b[0m \u001b[0;34m=\u001b[0m \u001b[0mnp\u001b[0m\u001b[0;34m.\u001b[0m\u001b[0mmatmul\u001b[0m\u001b[0;34m(\u001b[0m\u001b[0mA_t\u001b[0m\u001b[0;34m,\u001b[0m\u001b[0mnp\u001b[0m\u001b[0;34m.\u001b[0m\u001b[0mmatmul\u001b[0m\u001b[0;34m(\u001b[0m\u001b[0mC\u001b[0m\u001b[0;34m,\u001b[0m\u001b[0mA\u001b[0m\u001b[0;34m)\u001b[0m\u001b[0;34m)\u001b[0m\u001b[0;34m\u001b[0m\u001b[0m\n\u001b[0m\u001b[1;32m     27\u001b[0m     \u001b[0mA_tCb\u001b[0m \u001b[0;34m=\u001b[0m \u001b[0mnp\u001b[0m\u001b[0;34m.\u001b[0m\u001b[0mmatmul\u001b[0m\u001b[0;34m(\u001b[0m\u001b[0mA_t\u001b[0m\u001b[0;34m,\u001b[0m\u001b[0mnp\u001b[0m\u001b[0;34m.\u001b[0m\u001b[0mmatmul\u001b[0m\u001b[0;34m(\u001b[0m\u001b[0mC\u001b[0m\u001b[0;34m,\u001b[0m\u001b[0mb\u001b[0m\u001b[0;34m)\u001b[0m\u001b[0;34m)\u001b[0m\u001b[0;34m\u001b[0m\u001b[0m\n\u001b[1;32m     28\u001b[0m \u001b[0;34m\u001b[0m\u001b[0m\n",
      "\u001b[0;31mValueError\u001b[0m: shapes (5,5) and (4,3) not aligned: 5 (dim 1) != 4 (dim 0)"
     ]
    }
   ],
   "source": [
    "solve_resistor_network([(1,0),(2,1),(0,2),(0,2)],[-30,0,0,-10],[0,-1,1],0,[0,50,30,10,40])"
   ]
  }
 ],
 "metadata": {
  "kernelspec": {
   "display_name": "Python 2",
   "language": "python",
   "name": "python2"
  },
  "language_info": {
   "codemirror_mode": {
    "name": "ipython",
    "version": 2
   },
   "file_extension": ".py",
   "mimetype": "text/x-python",
   "name": "python",
   "nbconvert_exporter": "python",
   "pygments_lexer": "ipython2",
   "version": "2.7.12"
  }
 },
 "nbformat": 4,
 "nbformat_minor": 2
}
