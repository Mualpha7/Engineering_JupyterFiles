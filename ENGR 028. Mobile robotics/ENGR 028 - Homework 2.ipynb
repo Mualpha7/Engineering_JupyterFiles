{
 "cells": [
  {
   "cell_type": "markdown",
   "metadata": {},
   "source": [
    "# ENGR 28: Homework 2"
   ]
  },
  {
   "cell_type": "markdown",
   "metadata": {},
   "source": [
    "## Problem 1. Bonus Question"
   ]
  },
  {
   "cell_type": "code",
   "execution_count": 12,
   "metadata": {},
   "outputs": [
    {
     "name": "stdout",
     "output_type": "stream",
     "text": [
      "Please enter V_r: 3.14\n",
      "Please enter V_l: 6.28\n",
      "Please enter the distance from the wall: 10\n"
     ]
    },
    {
     "data": {
      "image/png": "[encoded data removed]",
      "text/plain": [
       "<matplotlib.figure.Figure at 0x7fb825c9deb8>"
      ]
     },
     "metadata": {},
     "output_type": "display_data"
    }
   ],
   "source": [
    "import numpy as np\n",
    "import matplotlib.pyplot as plt\n",
    "\n",
    "# start the robot out at 0,0,0\n",
    "(x, y, theta) = (0, 0, 0)\n",
    "\n",
    "# simulate for this amount of time (say, 100 seconds)\n",
    "t_final = 100.0 \n",
    "\n",
    "# set a reasonable delta t\n",
    "delta_t = 0.125 \n",
    "\n",
    "# start at t = 0\n",
    "t = 0.0 \n",
    "\n",
    "# robot parameters\n",
    "r = 0.02 # wheels have 2cm radius\n",
    "d = 0.10 # wheels 10cm apart\n",
    "\n",
    "# start a list of x/y pairs to plot\n",
    "all_points = [ (x, y) ]\n",
    "\n",
    "# ask for input\n",
    "vr = float(input(\"Please enter V_r: \"))\n",
    "vl = float(input(\"Please enter V_l: \"))\n",
    "\n",
    "# simulate the desired amount of time\n",
    "while t < t_final:\n",
    "\n",
    "    # diff drive kinematics update\n",
    "    linear_vel = (vl + vr)*r/2.0\n",
    "    angular_vel = (vr - vl)*r/(2.0*d)\n",
    "\n",
    "    # Euler's method update\n",
    "    x += delta_t * linear_vel * np.cos(theta)\n",
    "    y += delta_t * linear_vel * np.sin(theta)\n",
    "    theta += delta_t * angular_vel\n",
    "    \n",
    "    # time update\n",
    "    t += delta_t\n",
    "    \n",
    "    # account for the special case where vl = vr\n",
    "    if vl == vr:\n",
    "        all_points.append( (0, -x) )\n",
    "    \n",
    "    # add x, y point\n",
    "    else:\n",
    "        all_points.append( (x, y) )\n",
    "\n",
    "# convert points to numpy array so we can do 2D indexing like below\n",
    "all_points = np.array(all_points)\n",
    "        \n",
    "# plot using blue lines with -'s\n",
    "plt.plot(all_points[:,0], all_points[:,1], 'b--')\n",
    "\n",
    "# ask for input for wall distance\n",
    "wall = float(input(\"Please enter the distance from the wall: \"))\n",
    "\n",
    "# plot the wall\n",
    "plt.axhline(y=wall, color='r', linestyle='-')\n",
    "\n",
    "# make sure circles look like circles\n",
    "plt.axis('equal')\n",
    "\n",
    "# show the plot\n",
    "plt.show()"
   ]
  },
  {
   "cell_type": "markdown",
   "metadata": {},
   "source": [
    "# Problem 2. Part D"
   ]
  },
  {
   "cell_type": "code",
   "execution_count": 37,
   "metadata": {},
   "outputs": [
    {
     "data": {
      "image/png": "[encoded data removed]",
      "text/plain": [
       "<matplotlib.figure.Figure at 0x7fb8258c7da0>"
      ]
     },
     "metadata": {},
     "output_type": "display_data"
    }
   ],
   "source": [
    "import numpy as np\n",
    "import math\n",
    "import matplotlib.pyplot as plt\n",
    "from numpy.linalg import inv\n",
    "\n",
    "# define pi\n",
    "pi = 3.1415926535\n",
    "\n",
    "for t in range(0,6):\n",
    "    # transformation matrices\n",
    "    TWA = np.matrix([[math.cos(-pi*t/10.0), math.sin(pi*t/10.0), 0.5+2*math.sin(pi*t/10.0)], [math.sin(-pi*t/10.0), math.cos(-pi*t/10.0), 2*math.cos(pi*t/10.0)], [0, 0, 1]])\n",
    "    TWB = np.matrix([[math.cos(7*pi/6), math.sin(7*pi/6), 3.5+0.2*math.cos(7*pi/6)*t], [math.sin(7*pi/6), math.cos(7*pi/6), 2.0+0.25*math.sin(7*pi/6)*t], [0, 0, 1]])\n",
    "    TLA = np.matrix([[1, 0, -0.25], [0, 1, 1], [0, 0, 1]])\n",
    "    TCB = np.matrix([[1, 0, -0.25], [0, 1, 1], [0, 0, 1]])\n",
    "\n",
    "    # position of the light L in the coordinate frame of the camera C\n",
    "    TLC = TLA*inv(TWA)*TWB*inv(TCB)\n",
    "\n",
    "    # obtain the functions for x(t) and y(t)\n",
    "    x = TLC.item(2)\n",
    "    y = TLC.item(5)\n",
    "\n",
    "    # plot x and y using blue and red dots, respectively\n",
    "    plt.subplot(211)\n",
    "    plt.plot(t, -x, 'bo')\n",
    "    plt.xlabel('time t')\n",
    "    plt.ylabel('X(t)')\n",
    "    \n",
    "    plt.subplot(212)\n",
    "    plt.plot(t, -y, 'ro')\n",
    "    plt.xlabel('time t')\n",
    "    plt.ylabel('Y(t)')\n",
    "\n",
    "# show the plot\n",
    "plt.show()\n"
   ]
  }
 ],
 "metadata": {
  "kernelspec": {
   "display_name": "Python 3",
   "language": "python",
   "name": "python3"
  },
  "language_info": {
   "codemirror_mode": {
    "name": "ipython",
    "version": 3
   },
   "file_extension": ".py",
   "mimetype": "text/x-python",
   "name": "python",
   "nbconvert_exporter": "python",
   "pygments_lexer": "ipython3",
   "version": "3.5.2"
  }
 },
 "nbformat": 4,
 "nbformat_minor": 2
}
