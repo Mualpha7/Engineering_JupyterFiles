{
 "cells": [
  {
   "cell_type": "markdown",
   "metadata": {},
   "source": [
    "# ENGR 030: Final Project"
   ]
  },
  {
   "cell_type": "code",
   "execution_count": 2,
   "metadata": {},
   "outputs": [
    {
     "ename": "ImportError",
     "evalue": "No module named cv2",
     "output_type": "error",
     "traceback": [
      "\u001b[0;31m\u001b[0m",
      "\u001b[0;31mImportError\u001b[0mTraceback (most recent call last)",
      "\u001b[0;32m<ipython-input-2-b9c058ef43a7>\u001b[0m in \u001b[0;36m<module>\u001b[0;34m()\u001b[0m\n\u001b[0;32m----> 1\u001b[0;31m \u001b[0;32mimport\u001b[0m \u001b[0mcv2\u001b[0m\u001b[0;34m\u001b[0m\u001b[0m\n\u001b[0m\u001b[1;32m      2\u001b[0m \u001b[0;32mimport\u001b[0m \u001b[0mnumpy\u001b[0m \u001b[0;32mas\u001b[0m \u001b[0mnp\u001b[0m\u001b[0;34m\u001b[0m\u001b[0m\n\u001b[1;32m      3\u001b[0m \u001b[0;32mfrom\u001b[0m \u001b[0mscipy\u001b[0m\u001b[0;34m.\u001b[0m\u001b[0mmisc\u001b[0m \u001b[0;32mimport\u001b[0m \u001b[0mimresize\u001b[0m\u001b[0;34m\u001b[0m\u001b[0m\n\u001b[1;32m      4\u001b[0m \u001b[0;34m\u001b[0m\u001b[0m\n\u001b[1;32m      5\u001b[0m \u001b[0;31m# First we load constants\u001b[0m\u001b[0;34m\u001b[0m\u001b[0;34m\u001b[0m\u001b[0m\n",
      "\u001b[0;31mImportError\u001b[0m: No module named cv2"
     ]
    }
   ],
   "source": [
    "\n",
    "import cv2\n",
    "import numpy as np\n",
    "import matplotlib.pyplot as plt\n",
    "from scipy.misc import imresize\n",
    "\n",
    "# Parameters\n",
    "size = 0.275\n",
    "sample_num = 5\n",
    "wavelength = 0.632     \n",
    "wavenumber = 2*pi/wavelength\n",
    "dx = 4000    \n",
    "d = 80000  \n",
    "layers = 3 \n",
    "px = 5.5\n",
    "NA = 0.08              \n",
    "dF = 1/(2*size(intensity, 1)*0.275/sample_num) \n",
    "pupil_r = round((2*pi*NA/wavelength)/dF)    \n",
    "phase = imresize(cv2.imcrop(cv2.imread('monalisa.jpg'), [0, 0, 256, 256]), sample_num)\n",
    "intensity = imresize(cv2.imread('monalisa.jpg'), sample_num)\n",
    "[object_x, object_y] = meshgrid(np.arange(-0.275*size(intensity, 1)/2,0.275*size(intensity, 1)/2 - 0.275, 0.275), np.arange(-0.275*size(intensity, 1)/2,0.275*size(intensity, 1)/2 - 0.275, 0.275))\n",
    "\n",
    "# Helper functions\n",
    "def get_image(object, px_0, px, pupil_r):\n",
    "    ft = fftshift(fft2(object))\n",
    "    r = 2*pupil_r\n",
    "    cx = (ft, 1).shape/2 \n",
    "    cy = (ft, 2).shape/2 \n",
    "\n",
    "    [x,y] = meshgrid(np.arange(-(cx-1),(size(ft, 1)-cx)),np.arange(-(cy-1),(size(ft, 2)-cy)))\n",
    "    lpf_ft = zeros(size(ft))\n",
    "    lpf_image = ifft2(ifftshift(lpf_ft))\n",
    "    plt.figure()\n",
    "    plt.imshow(np.real(image*2))\n",
    "    plt.show()\n",
    "\n",
    "    image = imresize(lpf_image, (px_0/px))\n",
    "    return image\n",
    "\n",
    "def illuminate(object, x, y, d, object_x, object_y, wavenumber):\n",
    "    kx = wavenumber*x/np.sqrt(x**2 + y**2 + d**2)\n",
    "    ky = wavenumber*y/np.sqrt(x**2 + y**2 + d**2)\n",
    "    I = object_x*kx + object_y*ky\n",
    "\n",
    "    object = 10*object*np.exp(j*I)\n",
    "    return object\n",
    "\n",
    "# Generate the object\n",
    "phase = (pi/256.0)*phase   \n",
    "phase = zeros(phase.shape)    \n",
    "object = intensity*exp(j*phase)\n",
    "\n",
    "## Illuminate the object at different angles\n",
    "N = 2*layers - 1 \n",
    "images = []\n",
    "\n",
    "for a in np.arange(1,N):\n",
    "    for b in np.arange(1,N):\n",
    "\n",
    "        x = (a - layers)*dx\n",
    "        y = (b - layers)*dx\n",
    "        \n",
    "        object = illuminate(object, x, y, object_x, object_y, d, wavenumber)\n",
    "        plt.figure()\n",
    "        plt.imshow(abs(fftshift(fft2(object))))\n",
    "        plt.show()\n",
    "\n",
    "        image = get_image(object, px_0, px, pupil_r)\n",
    "        plt.figure()\n",
    "        plt.imshow(np.abs(image))\n",
    "        plt.show()\n",
    "        \n",
    "        image = 255*(image - np.min(image))/(np.max(np.abs(image)))\n",
    "        image = image*np.conj(image)\n",
    "        images = np.concatenate(images, image, axis=2)\n",
    "        \n",
    "        cv2.imwrite(np.uint8(image), monalisa)"
   ]
  },
  {
   "cell_type": "code",
   "execution_count": null,
   "metadata": {
    "collapsed": true
   },
   "outputs": [],
   "source": []
  }
 ],
 "metadata": {
  "kernelspec": {
   "display_name": "Python 2",
   "language": "python",
   "name": "python2"
  },
  "language_info": {
   "codemirror_mode": {
    "name": "ipython",
    "version": 2
   },
   "file_extension": ".py",
   "mimetype": "text/x-python",
   "name": "python",
   "nbconvert_exporter": "python",
   "pygments_lexer": "ipython2",
   "version": "2.7.12"
  }
 },
 "nbformat": 4,
 "nbformat_minor": 2
}
