{
 "cells": [
  {
   "cell_type": "markdown",
   "metadata": {},
   "source": [
    "# Low Level APIs"
   ]
  },
  {
   "cell_type": "markdown",
   "metadata": {},
   "source": [
    "## Introduction"
   ]
  },
  {
   "cell_type": "code",
   "execution_count": 39,
   "metadata": {
    "scrolled": true
   },
   "outputs": [
    {
     "name": "stdout",
     "output_type": "stream",
     "text": [
      "### EXAMPLE 1\n",
      "Tensor(\"Const_62:0\", shape=(), dtype=float32)\n",
      "Tensor(\"Const_63:0\", shape=(), dtype=float32)\n",
      "Tensor(\"add_79:0\", shape=(), dtype=float32)\n",
      "7.0\n",
      "{'total': 7.0, 'ab': (3.0, 4.0)}\n",
      "### EXAMPLE 2\n",
      "[0.87870765 0.98638844 0.46808589]\n",
      "[0.3498702  0.55027807 0.28086233]\n",
      "(array([1.1625127, 1.6531645, 1.027079 ], dtype=float32), array([2.1625128, 2.6531644, 2.027079 ], dtype=float32))\n",
      "### EXAMPLE 3\n",
      "7.5\n",
      "[3. 7.]\n",
      "### EXAMPLE 4\n",
      "<TensorSliceDataset shapes: (2,), types: tf.int32>\n",
      "Tensor(\"IteratorGetNext_10:0\", shape=(2,), dtype=int32)\n",
      "[0 1]\n",
      "[2 3]\n",
      "[4 5]\n",
      "[6 7]\n",
      "With Initialization:\n",
      "[-0.79248106  0.84623706  1.4429829 ]\n",
      "[-2.373306    1.6729252   0.28561988]\n",
      "[-1.0721095  1.1212237 -1.0906748]\n",
      "[ 0.80825305 -0.10589179 -2.2995076 ]\n",
      "[-0.33511165 -0.7235734   0.6235391 ]\n",
      "[-0.34491518 -0.7155613   1.2417661 ]\n",
      "[ 1.2868618 -1.1418914  1.03366  ]\n",
      "[ 1.9918251 -0.961269  -0.6490845]\n",
      "[-0.6762584 -1.5122948 -0.5179822]\n",
      "[-0.9192039 -0.6546962 -0.3822412]\n"
     ]
    }
   ],
   "source": [
    "from __future__ import absolute_import\n",
    "from __future__ import division\n",
    "from __future__ import print_function\n",
    "\n",
    "import numpy as np\n",
    "import tensorflow as tf\n",
    "\n",
    "### Example 1\n",
    "print(\"### EXAMPLE 1\")\n",
    "\n",
    "a = tf.constant(3.0, dtype=tf.float32)\n",
    "b = tf.constant(4.0) # also tf.float32 implicitly\n",
    "total = a + b\n",
    "\n",
    "print(a)\n",
    "print(b)\n",
    "print(total)\n",
    "\n",
    "sess = tf.Session()\n",
    "\n",
    "print(sess.run(total))\n",
    "print(sess.run({'ab':(a, b), 'total':total}))\n",
    "\n",
    "### Example 2\n",
    "print(\"### EXAMPLE 2\")\n",
    "\n",
    "vec = tf.random_uniform(shape=(3,))\n",
    "out1 = vec + 1\n",
    "out2 = vec + 2\n",
    "print(sess.run(vec))\n",
    "print(sess.run(vec))\n",
    "print(sess.run((out1, out2)))\n",
    "\n",
    "### Example 3\n",
    "print(\"### EXAMPLE 3\")\n",
    "\n",
    "x = tf.placeholder(tf.float32)\n",
    "y = tf.placeholder(tf.float32)\n",
    "z = x + y\n",
    "\n",
    "print(sess.run(z, feed_dict={x: 3, y: 4.5}))\n",
    "print(sess.run(z, feed_dict={x: [1, 3], y: [2, 4]}))\n",
    "\n",
    "### Example 4\n",
    "print(\"### EXAMPLE 4\")\n",
    "\n",
    "my_data = [[0, 1,],[2, 3,],[4, 5,],[6, 7,],]\n",
    "slices = tf.data.Dataset.from_tensor_slices(my_data)\n",
    "next_item = slices.make_one_shot_iterator().get_next()\n",
    "\n",
    "print(slices)\n",
    "print(next_item)\n",
    "\n",
    "while True:\n",
    "  try:\n",
    "    print(sess.run(next_item))\n",
    "  except tf.errors.OutOfRangeError:\n",
    "    break\n",
    "    \n",
    "print(\"With Initialization:\")\n",
    "\n",
    "r = tf.random_normal([10,3])\n",
    "dataset = tf.data.Dataset.from_tensor_slices(r)\n",
    "iterator = dataset.make_initializable_iterator()\n",
    "next_row = iterator.get_next()\n",
    "\n",
    "sess.run(iterator.initializer)\n",
    "while True:\n",
    "  try:\n",
    "    print(sess.run(next_row))\n",
    "  except tf.errors.OutOfRangeError:\n",
    "    break"
   ]
  },
  {
   "cell_type": "code",
   "execution_count": null,
   "metadata": {
    "collapsed": true,
    "scrolled": true
   },
   "outputs": [],
   "source": []
  }
 ],
 "metadata": {
  "kernelspec": {
   "display_name": "Python 2",
   "language": "python",
   "name": "python2"
  },
  "language_info": {
   "codemirror_mode": {
    "name": "ipython",
    "version": 2
   },
   "file_extension": ".py",
   "mimetype": "text/x-python",
   "name": "python",
   "nbconvert_exporter": "python",
   "pygments_lexer": "ipython2",
   "version": "2.7.12"
  }
 },
 "nbformat": 4,
 "nbformat_minor": 2
}
