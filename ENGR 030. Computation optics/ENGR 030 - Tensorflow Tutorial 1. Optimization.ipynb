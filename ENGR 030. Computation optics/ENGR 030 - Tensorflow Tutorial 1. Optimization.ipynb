{
 "cells": [
  {
   "cell_type": "markdown",
   "metadata": {},
   "source": [
    "# Tutorial 1: Optimization"
   ]
  },
  {
   "cell_type": "code",
   "execution_count": 1,
   "metadata": {},
   "outputs": [
    {
     "name": "stdout",
     "output_type": "stream",
     "text": [
      "WARNING:tensorflow:From /mnt/saturn/jupyterhub_data/fveronf1/.local/lib/python3.6/site-packages/tensorflow/python/framework/op_def_library.py:263: colocate_with (from tensorflow.python.framework.ops) is deprecated and will be removed in a future version.\n",
      "Instructions for updating:\n",
      "Colocations handled automatically by placer.\n",
      "x=0.13261956\n",
      "f(x)=0.01831315\n"
     ]
    },
    {
     "data": {
      "text/plain": [
       "<Figure size 640x480 with 1 Axes>"
      ]
     },
     "metadata": {},
     "output_type": "display_data"
    }
   ],
   "source": [
    "#Tensorflow In-class tutorial from 10-09-2018\n",
    "\n",
    "import numpy as np\n",
    "import tensorflow as tf\n",
    "import matplotlib.pyplot as plt\n",
    "\n",
    "init_val =1.0\n",
    "learning_rate = 1e-2 #less than one (otherwise, you'll overshoot the minimum)\n",
    "num_iter = 100\n",
    "\n",
    "def function_0(x, library=tf):\n",
    "    return x**2\n",
    "    #return library.sin(x)\n",
    "\n",
    "with tf.Graph().as_default():\n",
    "    \n",
    "    x = tf.get_variable('x', dtype=tf.float32, initializer=init_val)            #variable\n",
    "    f = x**2                                                                    #function\n",
    "    \n",
    "    optimizer = tf.train.GradientDescentOptimizer(learning_rate)    #learning rate is our epsilon\n",
    "    #optimizer = tf.train.AdamOptimizer(learning_rate)              #step sizes tend to be equal\n",
    "    #optimizer = tf.train.AdagradOptimizer(learning_rate)\n",
    "    #optimizer = tf.train.MomentumOptimizer(learning_rate) \n",
    "    train = optimizer.minimize(f)    #training operation to tell it to minimize\n",
    "    \n",
    "    init_op = tf.global_variables_initializer() #initialize variables\n",
    "    \n",
    "    with tf.Session() as sess: \n",
    "        sess.run(init_op)                                           #runs operations in your graph\n",
    "\n",
    "        f_vec = []\n",
    "        x_vec = []                                   \n",
    "        x0 = init_val\n",
    "        for i in range(num_iter):\n",
    "            x_vec.append(x0)\n",
    "            [_,f0,x0]=sess.run([train, f, x])                       #get what the initial values of x and f are\n",
    "            f_vec.append(f0)\n",
    "        print('x='+str(x0))\n",
    "        print('f(x)='+str(f0))\n",
    "        print\n",
    "            \n",
    "x_vec_0 = np.arange(0,1,0.01)\n",
    "f_vec_0 = function_0(x_vec_0, library=np)\n",
    "\n",
    "plt.figure()\n",
    "plt.plot(x_vec_0,f_vec_0)\n",
    "plt.plot(x_vec, f_vec, 'r*')\n",
    "plt.show()"
   ]
  },
  {
   "cell_type": "code",
   "execution_count": null,
   "metadata": {
    "collapsed": true
   },
   "outputs": [],
   "source": []
  }
 ],
 "metadata": {
  "kernelspec": {
   "display_name": "Python 3",
   "language": "python",
   "name": "python3"
  },
  "language_info": {
   "codemirror_mode": {
    "name": "ipython",
    "version": 3
   },
   "file_extension": ".py",
   "mimetype": "text/x-python",
   "name": "python",
   "nbconvert_exporter": "python",
   "pygments_lexer": "ipython3",
   "version": "3.6.7"
  }
 },
 "nbformat": 4,
 "nbformat_minor": 2
}
