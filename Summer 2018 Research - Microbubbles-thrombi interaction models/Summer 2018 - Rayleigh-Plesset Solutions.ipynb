{
 "cells": [
  {
   "cell_type": "markdown",
   "metadata": {},
   "source": [
    "# Rayleigh-Plesset Equation: Solutions"
   ]
  },
  {
   "cell_type": "markdown",
   "metadata": {},
   "source": [
    "# Some SymPy and SciPy Approaches"
   ]
  },
  {
   "cell_type": "code",
   "execution_count": 1,
   "metadata": {},
   "outputs": [
    {
     "ename": "NameError",
     "evalue": "name 'R' is not defined",
     "output_type": "error",
     "traceback": [
      "\u001b[0;31m---------------------------------------------------------------------------\u001b[0m",
      "\u001b[0;31mNameError\u001b[0m                                 Traceback (most recent call last)",
      "\u001b[0;32m<ipython-input-1-a2d33b381220>\u001b[0m in \u001b[0;36m<module>\u001b[0;34m()\u001b[0m\n\u001b[1;32m     19\u001b[0m \u001b[0;34m\u001b[0m\u001b[0m\n\u001b[1;32m     20\u001b[0m \u001b[0;31m#Rayleigh-Plesset Equation\u001b[0m\u001b[0;34m\u001b[0m\u001b[0;34m\u001b[0m\u001b[0m\n\u001b[0;32m---> 21\u001b[0;31m \u001b[0mRP_Eq\u001b[0m \u001b[0;34m=\u001b[0m \u001b[0mR\u001b[0m\u001b[0;34m(\u001b[0m\u001b[0mt\u001b[0m\u001b[0;34m)\u001b[0m\u001b[0;34m*\u001b[0m\u001b[0mDerivative\u001b[0m\u001b[0;34m(\u001b[0m\u001b[0mR\u001b[0m\u001b[0;34m,\u001b[0m \u001b[0mt\u001b[0m\u001b[0;34m,\u001b[0m \u001b[0mt\u001b[0m\u001b[0;34m)\u001b[0m \u001b[0;34m+\u001b[0m \u001b[0;36m3\u001b[0m\u001b[0;34m*\u001b[0m\u001b[0;34m(\u001b[0m\u001b[0mDerivative\u001b[0m\u001b[0;34m(\u001b[0m\u001b[0mR\u001b[0m\u001b[0;34m,\u001b[0m \u001b[0mt\u001b[0m\u001b[0;34m)\u001b[0m\u001b[0;34m)\u001b[0m\u001b[0;34m**\u001b[0m\u001b[0;36m2\u001b[0m\u001b[0;34m/\u001b[0m\u001b[0;36m2\u001b[0m \u001b[0;34m-\u001b[0m \u001b[0;36m1\u001b[0m\u001b[0;34m/\u001b[0m\u001b[0mrho\u001b[0m\u001b[0;34m*\u001b[0m\u001b[0;34m(\u001b[0m\u001b[0;34m(\u001b[0m\u001b[0mp_0\u001b[0m \u001b[0;34m+\u001b[0m \u001b[0;36m2\u001b[0m\u001b[0;34m*\u001b[0m\u001b[0msig\u001b[0m\u001b[0;34m/\u001b[0m\u001b[0mR_0\u001b[0m \u001b[0;34m-\u001b[0m \u001b[0mp_v\u001b[0m\u001b[0;34m)\u001b[0m\u001b[0;34m*\u001b[0m\u001b[0;34m(\u001b[0m\u001b[0mR_0\u001b[0m\u001b[0;34m/\u001b[0m\u001b[0mR\u001b[0m\u001b[0;34m(\u001b[0m\u001b[0mt\u001b[0m\u001b[0;34m)\u001b[0m\u001b[0;34m)\u001b[0m\u001b[0;34m**\u001b[0m\u001b[0;34m(\u001b[0m\u001b[0;36m3\u001b[0m\u001b[0;34m*\u001b[0m\u001b[0mkap\u001b[0m\u001b[0;34m)\u001b[0m \u001b[0;34m+\u001b[0m \u001b[0mp_v\u001b[0m \u001b[0;34m-\u001b[0m \u001b[0;36m2\u001b[0m\u001b[0;34m*\u001b[0m\u001b[0msig\u001b[0m\u001b[0;34m/\u001b[0m\u001b[0mR\u001b[0m\u001b[0;34m(\u001b[0m\u001b[0mt\u001b[0m\u001b[0;34m)\u001b[0m \u001b[0;34m-\u001b[0m \u001b[0mp_0\u001b[0m \u001b[0;34m-\u001b[0m \u001b[0mp\u001b[0m\u001b[0;34m(\u001b[0m\u001b[0mt\u001b[0m\u001b[0;34m)\u001b[0m\u001b[0;34m)\u001b[0m\u001b[0;34m\u001b[0m\u001b[0m\n\u001b[0m\u001b[1;32m     22\u001b[0m \u001b[0;34m\u001b[0m\u001b[0m\n\u001b[1;32m     23\u001b[0m \u001b[0;31m#Solve\u001b[0m\u001b[0;34m\u001b[0m\u001b[0;34m\u001b[0m\u001b[0m\n",
      "\u001b[0;31mNameError\u001b[0m: name 'R' is not defined"
     ]
    }
   ],
   "source": [
    "import math\n",
    "import numpy as np\n",
    "from scipy.misc import derivative\n",
    "from scipy.optimize import fsolve\n",
    "#from sympy import Function, Derivative, Symbol, dsolve\n",
    "#from sympy.abc import t #t is the independent variable\n",
    "#R = Function(\"R\")(t) #R is a function of t (time)\n",
    "#t = Symbol('t')\n",
    "rho = 1060 #density of the fluid surrounding the bubble in kg/m^3\n",
    "p_0 = 3333.05968538 #hydrostatic liquid pressure outside the bubble in Pa\n",
    "sig = 0.07286 #surface tension of liquid in N/m\n",
    "R_0 = 0.0000022 #equilibrium radius of the bubble in m\n",
    "p_v = 2338.8 #vapour pressure within the bubble in Pa\n",
    "kap = 1.07 #dimensionless polytropic index\n",
    "def p(t): #10 kHz sound field of pressure amplitude 2.7 bar\n",
    "    return 270000*np.sin(2*math.pi*10000*t)\n",
    "\n",
    "\n",
    "#SymPy approach\n",
    "\n",
    "#Rayleigh-Plesset Equation\n",
    "RP_Eq = R(t)*Derivative(R, t, t) + 3*(Derivative(R, t))**2/2 - 1/rho*((p_0 + 2*sig/R_0 - p_v)*(R_0/R(t))**(3*kap) + p_v - 2*sig/R(t) - p_0 - p(t))\n",
    "\n",
    "#Solve\n",
    "dsolve(R(t)*Derivative(R, t, t) + 3*(Derivative(R, t))**2/2 - 1/rho*((p_0 + 2*sig/R_0 - p_v)*(R_0/R(t))**(3*kap) + p_v - 2*sig/R(t) - p_0 - p(t)), R(t), hint='1st_exact')\n",
    "\n",
    "\n",
    "#SciPy approach\n",
    "\n",
    "#Rayleigh-Plesset Equation\n",
    "def RP(t):\n",
    "    return R(t)*derivative(R(t), t, 1e-3, 2) + 3*derivative(R(t), t, 1e-3, 1)**2/2 - 1/rho*((p_0 + 2*sig/R_0 - p_v)*(R_0/R(t))**(3*kap) + p_v - 2*sig/R(t) - p_0 - p(t))\n",
    "\n",
    "#Solve\n",
    "print(RP(0.0002)) #test if function works\n",
    "print(fsolve(RP(t), 0.001))"
   ]
  },
  {
   "cell_type": "markdown",
   "metadata": {},
   "source": [
    "# Odeint Approach"
   ]
  },
  {
   "cell_type": "code",
   "execution_count": 21,
   "metadata": {},
   "outputs": [
    {
     "name": "stderr",
     "output_type": "stream",
     "text": [
      "/usr/local/lib/python3.5/dist-packages/scipy/integrate/odepack.py:218: ODEintWarning: Excess work done on this call (perhaps wrong Dfun type). Run with full_output = 1 to get quantitative information.\n",
      "  warnings.warn(warning_msg, ODEintWarning)\n"
     ]
    },
    {
     "data": {
      "image/png": "[encoded data removed]",
      "text/plain": [
       "<matplotlib.figure.Figure at 0x7f517e56c160>"
      ]
     },
     "metadata": {},
     "output_type": "display_data"
    }
   ],
   "source": [
    "# Solve using odeint\n",
    "import math\n",
    "import numpy as np\n",
    "from scipy.integrate import odeint\n",
    "import matplotlib.pyplot as plt\n",
    "rho = 1060 #density of the fluid surrounding the bubble in kg/m^3\n",
    "p_0 = 3333.05968538 #hydrostatic liquid pressure outside the bubble in Pa\n",
    "sig = 0.07286 #surface tension of liquid in N/m\n",
    "R_0 = 0.002 #equilibrium radius of the bubble in m\n",
    "p_v = 2338.8 #vapour pressure within the bubble in Pa\n",
    "kap = 1.07 #dimensionless polytropic index\n",
    "def p(t): #10 kHz sound field of pressure amplitude 2.7 bar\n",
    "    return 270000*np.sin(2*math.pi*10000*t)\n",
    "\n",
    "def Rayleigh(y, t):\n",
    "    R, Q = y\n",
    "    dydt = [Q, (1.0/rho*((p_0 + 2.0*sig/R_0 - p_v)*(R_0/R)**(3.0*kap) + p_v - 2.0*sig/R - p_0 - p(t)) - 3.0*Q**2.0/2.0)/R]\n",
    "    return dydt\n",
    "\n",
    "y0 = [R_0, 0.0]\n",
    "t = np.linspace(0, 1, 1000)\n",
    "\n",
    "sol = odeint(Rayleigh, y0, t)\n",
    "plt.plot(t, sol[:, 0], 'b', label='R(t)')\n",
    "plt.legend(loc='best')\n",
    "plt.xlabel('time')\n",
    "plt.ylabel('radius')\n",
    "plt.grid()\n",
    "plt.show()\n"
   ]
  },
  {
   "cell_type": "markdown",
   "metadata": {},
   "source": [
    "# Solving each side and finding intersection curve"
   ]
  },
  {
   "cell_type": "code",
   "execution_count": 3,
   "metadata": {},
   "outputs": [
    {
     "name": "stdout",
     "output_type": "stream",
     "text": [
      "0.000137471698113208*R(t)**2.21 + 1.5*R(t)**3.21*Derivative(R(t), t)**2 + 0.937980834569442*R(t)**3.21 + R(t)**4.21*Derivative(R(t), t, t) - 2.94699904438673e-9\n",
      "Eq(R(t), 1.44269990590721*(C1 + C2*t)**0.4)\n",
      "[  1.80774283e-76]\n"
     ]
    },
    {
     "name": "stderr",
     "output_type": "stream",
     "text": [
      "/usr/local/lib/python3.5/dist-packages/scipy/optimize/minpack.py:161: RuntimeWarning: The number of calls to function has reached maxfev = 400.\n",
      "  warnings.warn(msg, RuntimeWarning)\n"
     ]
    }
   ],
   "source": [
    "#Solve each side and then equate to find intersection point at each t\n",
    "\n",
    "import math\n",
    "from sympy import Function, dsolve, Eq, Derivative, symbols, expand\n",
    "from sympy.abc import t\n",
    "from scipy.optimize import fsolve\n",
    "\n",
    "#Parameters\n",
    "R = Function('R')\n",
    "rho = 1060 #density of the fluid surrounding the bubble in kg/m^3\n",
    "p_0 = 3333.05968538 #hydrostatic liquid pressure outside the bubble in Pa\n",
    "sig = 0.07286 #surface tension of liquid in N/m\n",
    "R_0 = 0.0022 #equilibrium radius of the bubble in m\n",
    "p_v = 2338.8 #vapour pressure within the bubble in Pa\n",
    "kap = 1.07 #dimensionless polytropic index\n",
    "def p(t): #10 kHz sound field of pressure amplitude 2.7 bar\n",
    "    return 270000.0*math.sin(2.0*math.pi*10000.0*t)\n",
    "\n",
    "#Plug in the values for the parameters and expand the Rayleigh-Plesset Equation\n",
    "print(expand(R(t)**(3*kap+1)*Derivative(R(t), t, 2) + (3.0/2)*R(t)**(3*kap)*Derivative(R(t), t, 1)**2 - 1/rho*((p_0 + 2*sig/R_0 - p_v)*R_0**(3*kap) + R(t)**(3*kap)*p_v - 2*R(t)**(3*kap-1)*sig - R(t)**(3*kap)*p_0) - R(t)**(3*kap)*6.94708984660307e-10, R(t)))\n",
    "\n",
    "#LHS of Rayleigh-Plesset Equation\n",
    "print(dsolve(R(t)**(3*kap+1)*Derivative(R(t), t, 2) + 3.0/2*R(t)**(3*kap)*Derivative(R(t), t, 1)**2, R(t)))\n",
    "\n",
    "#RHS of Rayleigh-Plesset Equation, where y = R(t)\n",
    "def RHS(y):\n",
    "    return 0.000137471698113208*y**2.21 + 0.937980835264151*y**3.21 - y**(3*kap)*6.94708984660307e-10\n",
    "print(fsolve(RHS, 0.0002))"
   ]
  },
  {
   "cell_type": "markdown",
   "metadata": {
    "collapsed": true
   },
   "source": [
    "# Mathematica Approach"
   ]
  },
  {
   "cell_type": "code",
   "execution_count": 7,
   "metadata": {},
   "outputs": [
    {
     "ename": "SyntaxError",
     "evalue": "EOL while scanning string literal (<ipython-input-7-3edead085d20>, line 20)",
     "output_type": "error",
     "traceback": [
      "\u001b[0;36m  File \u001b[0;32m\"<ipython-input-7-3edead085d20>\"\u001b[0;36m, line \u001b[0;32m20\u001b[0m\n\u001b[0;31m    NDSolve[{R[t]*R''[t] + (3 (R'[t])^2)/2 ==\u001b[0m\n\u001b[0m                                              ^\u001b[0m\n\u001b[0;31mSyntaxError\u001b[0m\u001b[0;31m:\u001b[0m EOL while scanning string literal\n"
     ]
    }
   ],
   "source": [
    "Clear[R, R0, Rho, P0, Sigma, Pv, Eta, P(t), Kappa]\n",
    "\n",
    "R0 = 0.002\n",
    "\n",
    "Rho = 1000\n",
    "\n",
    "P0 = 101325\n",
    "\n",
    "Sigma = 0.07286\n",
    "\n",
    "Pv = 2338.8\n",
    "\n",
    "Eta = 0.001002\n",
    "\n",
    "def P(t): \n",
    "    return 270000*np.sin(2*math.pi*10000*t)\n",
    "\n",
    "Kappa = 1.4\n",
    "\n",
    "NDSolve[{R[t]*R''[t] + (3 (R'[t])^2)/2 == 1/\\[Rho]*((P0 + (2*\\[Sigma])/R0 - Pv)*(R0/R[t])^(3*\\[Kappa]) + \n",
    "                           Pv - (2*\\[Sigma])/R[t] - (4*\\[Eta]*R'[t])/R[t] - P0 - P[t]), \n",
    "  R[0] == R0, R'[0] == 0}, R, {t, 0, 0.001}]\n",
    "Plot[Evaluate[R[t] /. %], {t, 0, 0.001}, \n",
    " AxesLabel -> {\"Time (s)\", \"Bubble radius R (m)\"}]"
   ]
  },
  {
   "cell_type": "markdown",
   "metadata": {
    "collapsed": true
   },
   "source": [
    "# MATLAB Approach (from Lars Hoff script)"
   ]
  },
  {
   "cell_type": "code",
   "execution_count": 15,
   "metadata": {},
   "outputs": [
    {
     "ename": "ValueError",
     "evalue": "x and y must have same first dimension, but have shapes (17,) and (5,)",
     "output_type": "error",
     "traceback": [
      "\u001b[0;31m---------------------------------------------------------------------------\u001b[0m",
      "\u001b[0;31mValueError\u001b[0m                                Traceback (most recent call last)",
      "\u001b[0;32m<ipython-input-15-4f459979b128>\u001b[0m in \u001b[0;36m<module>\u001b[0;34m()\u001b[0m\n\u001b[1;32m     80\u001b[0m     \u001b[0;32mreturn\u001b[0m \u001b[0mddx\u001b[0m\u001b[0;34m\u001b[0m\u001b[0m\n\u001b[1;32m     81\u001b[0m \u001b[0;34m\u001b[0m\u001b[0m\n\u001b[0;32m---> 82\u001b[0;31m \u001b[0mplt\u001b[0m\u001b[0;34m.\u001b[0m\u001b[0mplot\u001b[0m\u001b[0;34m(\u001b[0m\u001b[0mnp\u001b[0m\u001b[0;34m.\u001b[0m\u001b[0marange\u001b[0m\u001b[0;34m(\u001b[0m\u001b[0;36m0\u001b[0m\u001b[0;34m,\u001b[0m\u001b[0;36m8.01\u001b[0m\u001b[0;34m,\u001b[0m\u001b[0;36m0.5\u001b[0m\u001b[0;34m)\u001b[0m\u001b[0;34m,\u001b[0m \u001b[0mRayleigh\u001b[0m\u001b[0;34m(\u001b[0m\u001b[0;36m2\u001b[0m\u001b[0;34m,\u001b[0m \u001b[0;36m100\u001b[0m\u001b[0;34m,\u001b[0m \u001b[0;36m0.001\u001b[0m\u001b[0;34m,\u001b[0m \u001b[0;36m30\u001b[0m\u001b[0;34m,\u001b[0m \u001b[0;36m0.005\u001b[0m\u001b[0;34m,\u001b[0m \u001b[0;36m54\u001b[0m\u001b[0;34m,\u001b[0m \u001b[0;36m1.07\u001b[0m\u001b[0;34m)\u001b[0m\u001b[0;34m,\u001b[0m \u001b[0;34m'b-'\u001b[0m\u001b[0;34m)\u001b[0m\u001b[0;34m\u001b[0m\u001b[0m\n\u001b[0m\u001b[1;32m     83\u001b[0m \u001b[0mplt\u001b[0m\u001b[0;34m.\u001b[0m\u001b[0mshow\u001b[0m\u001b[0;34m(\u001b[0m\u001b[0;34m)\u001b[0m\u001b[0;34m\u001b[0m\u001b[0m\n",
      "\u001b[0;32m/usr/local/lib/python3.5/dist-packages/matplotlib/pyplot.py\u001b[0m in \u001b[0;36mplot\u001b[0;34m(*args, **kwargs)\u001b[0m\n\u001b[1;32m   3315\u001b[0m                       mplDeprecation)\n\u001b[1;32m   3316\u001b[0m     \u001b[0;32mtry\u001b[0m\u001b[0;34m:\u001b[0m\u001b[0;34m\u001b[0m\u001b[0m\n\u001b[0;32m-> 3317\u001b[0;31m         \u001b[0mret\u001b[0m \u001b[0;34m=\u001b[0m \u001b[0max\u001b[0m\u001b[0;34m.\u001b[0m\u001b[0mplot\u001b[0m\u001b[0;34m(\u001b[0m\u001b[0;34m*\u001b[0m\u001b[0margs\u001b[0m\u001b[0;34m,\u001b[0m \u001b[0;34m**\u001b[0m\u001b[0mkwargs\u001b[0m\u001b[0;34m)\u001b[0m\u001b[0;34m\u001b[0m\u001b[0m\n\u001b[0m\u001b[1;32m   3318\u001b[0m     \u001b[0;32mfinally\u001b[0m\u001b[0;34m:\u001b[0m\u001b[0;34m\u001b[0m\u001b[0m\n\u001b[1;32m   3319\u001b[0m         \u001b[0max\u001b[0m\u001b[0;34m.\u001b[0m\u001b[0m_hold\u001b[0m \u001b[0;34m=\u001b[0m \u001b[0mwashold\u001b[0m\u001b[0;34m\u001b[0m\u001b[0m\n",
      "\u001b[0;32m/usr/local/lib/python3.5/dist-packages/matplotlib/__init__.py\u001b[0m in \u001b[0;36minner\u001b[0;34m(ax, *args, **kwargs)\u001b[0m\n\u001b[1;32m   1896\u001b[0m                     warnings.warn(msg % (label_namer, func.__name__),\n\u001b[1;32m   1897\u001b[0m                                   RuntimeWarning, stacklevel=2)\n\u001b[0;32m-> 1898\u001b[0;31m             \u001b[0;32mreturn\u001b[0m \u001b[0mfunc\u001b[0m\u001b[0;34m(\u001b[0m\u001b[0max\u001b[0m\u001b[0;34m,\u001b[0m \u001b[0;34m*\u001b[0m\u001b[0margs\u001b[0m\u001b[0;34m,\u001b[0m \u001b[0;34m**\u001b[0m\u001b[0mkwargs\u001b[0m\u001b[0;34m)\u001b[0m\u001b[0;34m\u001b[0m\u001b[0m\n\u001b[0m\u001b[1;32m   1899\u001b[0m         \u001b[0mpre_doc\u001b[0m \u001b[0;34m=\u001b[0m \u001b[0minner\u001b[0m\u001b[0;34m.\u001b[0m\u001b[0m__doc__\u001b[0m\u001b[0;34m\u001b[0m\u001b[0m\n\u001b[1;32m   1900\u001b[0m         \u001b[0;32mif\u001b[0m \u001b[0mpre_doc\u001b[0m \u001b[0;32mis\u001b[0m \u001b[0;32mNone\u001b[0m\u001b[0;34m:\u001b[0m\u001b[0;34m\u001b[0m\u001b[0m\n",
      "\u001b[0;32m/usr/local/lib/python3.5/dist-packages/matplotlib/axes/_axes.py\u001b[0m in \u001b[0;36mplot\u001b[0;34m(self, *args, **kwargs)\u001b[0m\n\u001b[1;32m   1404\u001b[0m         \u001b[0mkwargs\u001b[0m \u001b[0;34m=\u001b[0m \u001b[0mcbook\u001b[0m\u001b[0;34m.\u001b[0m\u001b[0mnormalize_kwargs\u001b[0m\u001b[0;34m(\u001b[0m\u001b[0mkwargs\u001b[0m\u001b[0;34m,\u001b[0m \u001b[0m_alias_map\u001b[0m\u001b[0;34m)\u001b[0m\u001b[0;34m\u001b[0m\u001b[0m\n\u001b[1;32m   1405\u001b[0m \u001b[0;34m\u001b[0m\u001b[0m\n\u001b[0;32m-> 1406\u001b[0;31m         \u001b[0;32mfor\u001b[0m \u001b[0mline\u001b[0m \u001b[0;32min\u001b[0m \u001b[0mself\u001b[0m\u001b[0;34m.\u001b[0m\u001b[0m_get_lines\u001b[0m\u001b[0;34m(\u001b[0m\u001b[0;34m*\u001b[0m\u001b[0margs\u001b[0m\u001b[0;34m,\u001b[0m \u001b[0;34m**\u001b[0m\u001b[0mkwargs\u001b[0m\u001b[0;34m)\u001b[0m\u001b[0;34m:\u001b[0m\u001b[0;34m\u001b[0m\u001b[0m\n\u001b[0m\u001b[1;32m   1407\u001b[0m             \u001b[0mself\u001b[0m\u001b[0;34m.\u001b[0m\u001b[0madd_line\u001b[0m\u001b[0;34m(\u001b[0m\u001b[0mline\u001b[0m\u001b[0;34m)\u001b[0m\u001b[0;34m\u001b[0m\u001b[0m\n\u001b[1;32m   1408\u001b[0m             \u001b[0mlines\u001b[0m\u001b[0;34m.\u001b[0m\u001b[0mappend\u001b[0m\u001b[0;34m(\u001b[0m\u001b[0mline\u001b[0m\u001b[0;34m)\u001b[0m\u001b[0;34m\u001b[0m\u001b[0m\n",
      "\u001b[0;32m/usr/local/lib/python3.5/dist-packages/matplotlib/axes/_base.py\u001b[0m in \u001b[0;36m_grab_next_args\u001b[0;34m(self, *args, **kwargs)\u001b[0m\n\u001b[1;32m    405\u001b[0m                 \u001b[0;32mreturn\u001b[0m\u001b[0;34m\u001b[0m\u001b[0m\n\u001b[1;32m    406\u001b[0m             \u001b[0;32mif\u001b[0m \u001b[0mlen\u001b[0m\u001b[0;34m(\u001b[0m\u001b[0mremaining\u001b[0m\u001b[0;34m)\u001b[0m \u001b[0;34m<=\u001b[0m \u001b[0;36m3\u001b[0m\u001b[0;34m:\u001b[0m\u001b[0;34m\u001b[0m\u001b[0m\n\u001b[0;32m--> 407\u001b[0;31m                 \u001b[0;32mfor\u001b[0m \u001b[0mseg\u001b[0m \u001b[0;32min\u001b[0m \u001b[0mself\u001b[0m\u001b[0;34m.\u001b[0m\u001b[0m_plot_args\u001b[0m\u001b[0;34m(\u001b[0m\u001b[0mremaining\u001b[0m\u001b[0;34m,\u001b[0m \u001b[0mkwargs\u001b[0m\u001b[0;34m)\u001b[0m\u001b[0;34m:\u001b[0m\u001b[0;34m\u001b[0m\u001b[0m\n\u001b[0m\u001b[1;32m    408\u001b[0m                     \u001b[0;32myield\u001b[0m \u001b[0mseg\u001b[0m\u001b[0;34m\u001b[0m\u001b[0m\n\u001b[1;32m    409\u001b[0m                 \u001b[0;32mreturn\u001b[0m\u001b[0;34m\u001b[0m\u001b[0m\n",
      "\u001b[0;32m/usr/local/lib/python3.5/dist-packages/matplotlib/axes/_base.py\u001b[0m in \u001b[0;36m_plot_args\u001b[0;34m(self, tup, kwargs)\u001b[0m\n\u001b[1;32m    383\u001b[0m             \u001b[0mx\u001b[0m\u001b[0;34m,\u001b[0m \u001b[0my\u001b[0m \u001b[0;34m=\u001b[0m \u001b[0mindex_of\u001b[0m\u001b[0;34m(\u001b[0m\u001b[0mtup\u001b[0m\u001b[0;34m[\u001b[0m\u001b[0;34m-\u001b[0m\u001b[0;36m1\u001b[0m\u001b[0;34m]\u001b[0m\u001b[0;34m)\u001b[0m\u001b[0;34m\u001b[0m\u001b[0m\n\u001b[1;32m    384\u001b[0m \u001b[0;34m\u001b[0m\u001b[0m\n\u001b[0;32m--> 385\u001b[0;31m         \u001b[0mx\u001b[0m\u001b[0;34m,\u001b[0m \u001b[0my\u001b[0m \u001b[0;34m=\u001b[0m \u001b[0mself\u001b[0m\u001b[0;34m.\u001b[0m\u001b[0m_xy_from_xy\u001b[0m\u001b[0;34m(\u001b[0m\u001b[0mx\u001b[0m\u001b[0;34m,\u001b[0m \u001b[0my\u001b[0m\u001b[0;34m)\u001b[0m\u001b[0;34m\u001b[0m\u001b[0m\n\u001b[0m\u001b[1;32m    386\u001b[0m \u001b[0;34m\u001b[0m\u001b[0m\n\u001b[1;32m    387\u001b[0m         \u001b[0;32mif\u001b[0m \u001b[0mself\u001b[0m\u001b[0;34m.\u001b[0m\u001b[0mcommand\u001b[0m \u001b[0;34m==\u001b[0m \u001b[0;34m'plot'\u001b[0m\u001b[0;34m:\u001b[0m\u001b[0;34m\u001b[0m\u001b[0m\n",
      "\u001b[0;32m/usr/local/lib/python3.5/dist-packages/matplotlib/axes/_base.py\u001b[0m in \u001b[0;36m_xy_from_xy\u001b[0;34m(self, x, y)\u001b[0m\n\u001b[1;32m    242\u001b[0m         \u001b[0;32mif\u001b[0m \u001b[0mx\u001b[0m\u001b[0;34m.\u001b[0m\u001b[0mshape\u001b[0m\u001b[0;34m[\u001b[0m\u001b[0;36m0\u001b[0m\u001b[0;34m]\u001b[0m \u001b[0;34m!=\u001b[0m \u001b[0my\u001b[0m\u001b[0;34m.\u001b[0m\u001b[0mshape\u001b[0m\u001b[0;34m[\u001b[0m\u001b[0;36m0\u001b[0m\u001b[0;34m]\u001b[0m\u001b[0;34m:\u001b[0m\u001b[0;34m\u001b[0m\u001b[0m\n\u001b[1;32m    243\u001b[0m             raise ValueError(\"x and y must have same first dimension, but \"\n\u001b[0;32m--> 244\u001b[0;31m                              \"have shapes {} and {}\".format(x.shape, y.shape))\n\u001b[0m\u001b[1;32m    245\u001b[0m         \u001b[0;32mif\u001b[0m \u001b[0mx\u001b[0m\u001b[0;34m.\u001b[0m\u001b[0mndim\u001b[0m \u001b[0;34m>\u001b[0m \u001b[0;36m2\u001b[0m \u001b[0;32mor\u001b[0m \u001b[0my\u001b[0m\u001b[0;34m.\u001b[0m\u001b[0mndim\u001b[0m \u001b[0;34m>\u001b[0m \u001b[0;36m2\u001b[0m\u001b[0;34m:\u001b[0m\u001b[0;34m\u001b[0m\u001b[0m\n\u001b[1;32m    246\u001b[0m             raise ValueError(\"x and y can be no greater than 2-D, but have \"\n",
      "\u001b[0;31mValueError\u001b[0m: x and y must have same first dimension, but have shapes (17,) and (5,)"
     ]
    }
   ],
   "source": [
    "import math\n",
    "import numpy as np\n",
    "import matplotlib.pyplot as plt\n",
    "from scipy.interpolate import interp1d\n",
    "\n",
    "rho = 1060 #density of the fluid surrounding the bubble in kg/m^3\n",
    "p_0 = 3333.05968538 #hydrostatic liquid pressure outside the bubble in Pa\n",
    "sig = 0.07286 #surface tension of liquid in N/m\n",
    "R_0 = 0.0000022 #equilibrium radius of the bubble in m\n",
    "p_v = 2338.8 #vapour pressure within the bubble in Pa\n",
    "kap = 1.07 #dimensionless polytropic index\n",
    "\n",
    "def SurfacePressure(x,dx,gs,ns,nL,kappa):\n",
    "    # Pressure at the bubble surface\n",
    "    #\n",
    "    #   x : Radial strain\n",
    "    #  dx = dx/dt\n",
    "    #  gs : Normalized shell shear modulus\n",
    "    #  ns : Normalized shell shear viscosity\n",
    "    #  nL : Normalized liquid viscosity\n",
    "    #  kappa: Polytropic exponent\n",
    "    #  qL : Pressure at bubble surface\n",
    "    #  q1 = dqL/dx\n",
    "    #  q2 = dqL/ddx\n",
    "    #\n",
    "    #  Calculate pressure at bubble surface\n",
    "    #  Boundary condition for ODE giving bubble motion\n",
    "\n",
    "    #--- Gas pressure ---\n",
    "    qg  = (1 + x)**(-3*kappa)\n",
    "    dqg = -3*kappa*(1 + x)**(-3*kappa - 1)\n",
    "\n",
    "    #--- Shell pressure ---\n",
    "    #--- Exponential shell model ---\n",
    "    x0 = 1.0/8\n",
    "    x1 = 1.0/4\n",
    "    eg = math.exp(-x/x0)  # Stiffness\n",
    "    en = math.exp(-x/x1)  # Viscosity\n",
    "\n",
    "    qs   = -12*(gs*x0*(1-eg) + ns*en*dx)\n",
    "    dqs1 = -12*(gs*eg - ns/x1*en*dx)\n",
    "    dqs2 = -12*ns*en\n",
    "\n",
    "    #--- Pressure at bubble wall ---\n",
    "    qL = -4.0*nL*dx/(1+x) + qs + qg\n",
    "    q1 =  4.0*nL*dx/(1+x)**2 + dqs1 + dqg\n",
    "    q2 = -4.0*nL*1/(1+x) + dqs2\n",
    "\n",
    "    return [qL,q1,q2]\n",
    "\n",
    "def p(t): #10 kHz sound field of pressure amplitude 2.7 bar\n",
    "    return 270000*np.sin(2.0*math.pi*10000.0*t)\n",
    "\n",
    "def Rayleigh(t, x, dx, gs, ns, nL, kappa):\n",
    "    # Simulate Rayleigh-Plesset equation for gas encapsulated in a shell\n",
    "    # Normalized radial displacement, pressure and time\n",
    "    #\n",
    "    # t : Time\n",
    "    # x : Radial strain\n",
    "    # dx = dx/dt\n",
    "    #\n",
    "    #--- Normalized visco-elastic physical parameters ---\n",
    "    # gs : Normalized shell shear modulus\n",
    "    # ns : Normalized shell shear viscosity\n",
    "    # nL : Normalized liquid viscosity\n",
    "    # kappa : Polytropic exponent\n",
    "    \n",
    "    T = math.sqrt(p_0/(rho*R_0**2))*np.arange(0,t+0.01,0.5) #Normalized time T = t*w0, w0= sqrt(p0/(rho*a0^2))               \n",
    "    #IS IT R_0 OR INITIAL RADIUS?\n",
    "    \n",
    "    qi = interp1d(T, p(T), kind='cubic') # Driving pressure\n",
    "\n",
    "    #--- Pressure at bubble surface ---\n",
    "    SP = SurfacePressure(x,dx,gs,ns,nL,kappa)\n",
    "    \n",
    "    #--- ODE ---\n",
    "    q3  =  1.0+x\n",
    "    ddx = -1.0/q3*(3.0/2*dx**2 + 1 + qi(T) - SP[0])\n",
    "\n",
    "    return ddx\n",
    "\n",
    "plt.plot(np.arange(0,8.01,0.5), Rayleigh(2, 100, 0.001, 30, 0.005, 54, 1.07), 'b-')\n",
    "plt.show()"
   ]
  },
  {
   "cell_type": "markdown",
   "metadata": {
    "collapsed": true
   },
   "source": [
    "WRITE UP EVERYTHING. WRITE A WORD DOC AND PUT EVERYTHING ON A GOOGLE DRIVE TO HAND OFF EVERYTHING I DID THIS SUMMER TO NEXT YEAR'S RESEARCH ASSISTANTS.\n",
    "\n",
    "Increase acoustic presure until it gets non-sinusoidal.\n",
    "What is an STL? "
   ]
  }
 ],
 "metadata": {
  "kernelspec": {
   "display_name": "Python 3",
   "language": "python",
   "name": "python3"
  },
  "language_info": {
   "codemirror_mode": {
    "name": "ipython",
    "version": 3
   },
   "file_extension": ".py",
   "mimetype": "text/x-python",
   "name": "python",
   "nbconvert_exporter": "python",
   "pygments_lexer": "ipython3",
   "version": "3.6.7"
  }
 },
 "nbformat": 4,
 "nbformat_minor": 2
}
