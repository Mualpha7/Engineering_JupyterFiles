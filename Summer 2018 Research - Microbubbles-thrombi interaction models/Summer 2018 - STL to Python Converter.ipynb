{
 "cells": [
  {
   "cell_type": "markdown",
   "metadata": {},
   "source": [
    "# VPython"
   ]
  },
  {
   "cell_type": "code",
   "execution_count": 3,
   "metadata": {},
   "outputs": [
    {
     "ename": "ImportError",
     "evalue": "No module named 'visual'",
     "output_type": "error",
     "traceback": [
      "\u001b[0;31m---------------------------------------------------------------------------\u001b[0m",
      "\u001b[0;31mImportError\u001b[0m                               Traceback (most recent call last)",
      "\u001b[0;32m<ipython-input-3-a601b28f3beb>\u001b[0m in \u001b[0;36m<module>\u001b[0;34m()\u001b[0m\n\u001b[0;32m----> 1\u001b[0;31m \u001b[0;32mfrom\u001b[0m \u001b[0mvisual\u001b[0m \u001b[0;32mimport\u001b[0m \u001b[0;34m*\u001b[0m\u001b[0;34m\u001b[0m\u001b[0m\n\u001b[0m\u001b[1;32m      2\u001b[0m \u001b[0;32mfrom\u001b[0m \u001b[0mvisual\u001b[0m\u001b[0;34m.\u001b[0m\u001b[0mfiledialog\u001b[0m \u001b[0;32mimport\u001b[0m \u001b[0mget_file\u001b[0m\u001b[0;34m\u001b[0m\u001b[0m\n\u001b[1;32m      3\u001b[0m \u001b[0;34m\u001b[0m\u001b[0m\n\u001b[1;32m      4\u001b[0m \u001b[0;32mdef\u001b[0m \u001b[0mstl_to_faces\u001b[0m\u001b[0;34m(\u001b[0m\u001b[0mfileinfo\u001b[0m\u001b[0;34m)\u001b[0m\u001b[0;34m:\u001b[0m \u001b[0;31m# specify file\u001b[0m\u001b[0;34m\u001b[0m\u001b[0m\n\u001b[1;32m      5\u001b[0m     \u001b[0;31m# Accept a file name or a file descriptor; make sure mode is 'rb' (read binary)\u001b[0m\u001b[0;34m\u001b[0m\u001b[0;34m\u001b[0m\u001b[0m\n",
      "\u001b[0;31mImportError\u001b[0m: No module named 'visual'"
     ]
    }
   ],
   "source": [
    "from visual import *\n",
    "from visual.filedialog import get_file\n",
    "\n",
    "def stl_to_faces(fileinfo): # specify file\n",
    "    # Accept a file name or a file descriptor; make sure mode is 'rb' (read binary)\n",
    "    if isinstance(fileinfo, str):\n",
    "        fd = open(fileinfo, mode='rb')\n",
    "    elif isinstance(fileinfo, file):\n",
    "        if fileinfo.mode != 'rb':\n",
    "            filename = fileinfo.name\n",
    "            fileinfo.close()\n",
    "            fd = open(filename, mode='rb')\n",
    "        else:\n",
    "            fd = fileinfo\n",
    "    else:\n",
    "        raise TypeError #\"Specify a file\"\n",
    "    text = fd.read()\n",
    "    if chr(0) in text: # if binary file\n",
    "        text = text[84:]\n",
    "        L = len(text)\n",
    "        N = 2*(L//25) # 25/2 floats per point: 4*3 float32's + 1 uint16\n",
    "        triNor = zeros((N,3), dtype=float32)\n",
    "        triPos = zeros((N,3), dtype=float32)\n",
    "        n = i = 0\n",
    "        while n < L:\n",
    "            if n % 200000 == 0:\n",
    "                print (\"%d\" % (100*n/L))+\"%\",\n",
    "            triNor[i] = fromstring(text[n:n+12], float32)\n",
    "            triPos[i] = fromstring(text[n+12:n+24], float32)\n",
    "            triPos[i+1] = fromstring(text[n+24:n+36], float32)\n",
    "            triPos[i+2] = fromstring(text[n+36:n+48], float32)\n",
    "            colors = fromstring(text[n+48:n+50], uint16)\n",
    "            if colors != 0:\n",
    "                print('%x' % colors)\n",
    "            if triNor[i].any():\n",
    "                triNor[i] = triNor[i+1] = triNor[i+2] = norm(vector(triNor[i]))\n",
    "            else:\n",
    "                triNor[i] = triNor[i+1] = triNor[i+2] = \\\n",
    "                    norm(cross(triPos[i+1]-triPos[i],triPos[i+2]-triPos[i]))\n",
    "            n += 50\n",
    "            i += 3\n",
    "    else:\n",
    "        fd.seek(0)\n",
    "        fList = fd.readlines()\n",
    "        triPos = []\n",
    "        triNor = []\n",
    "\n",
    "        # Decompose list into vertex positions and normals\n",
    "        for line in fList:\n",
    "            FileLine = line.split( )\n",
    "            if FileLine[0] == 'facet':\n",
    "                for n in range(3):\n",
    "                    triNor.append( [ float(FileLine[2]), float(FileLine[3]), float(FileLine[4]) ]  )\n",
    "            elif FileLine[0] == 'vertex':\n",
    "                triPos.append( [ float(FileLine[1]), float(FileLine[2]), float(FileLine[3]) ]  )\n",
    "\n",
    "        triPos = array(triPos)\n",
    "        triNor = array(triNor)\n",
    "\n",
    "    # Compose faces in default frame\n",
    "    f = frame()\n",
    "    return faces(frame=f, pos=triPos, normal=triNor)\n",
    "\n",
    "if __name__ == '__main__':\n",
    "    print(\"Choose an stl file to display. Rotate!\")\n",
    "    # Open .stl file\n",
    "    while True:\n",
    "        fd = get_file()\n",
    "        if not fd: continue\n",
    "        \n",
    "        scene.width = scene.height = 800\n",
    "        scene.autocenter = True\n",
    "        newobject = stl_to_faces(fd)\n",
    "        newobject.smooth() # average normals at a vertex\n",
    "        \n",
    "        break"
   ]
  },
  {
   "cell_type": "markdown",
   "metadata": {},
   "source": [
    "# Numpy"
   ]
  },
  {
   "cell_type": "code",
   "execution_count": 2,
   "metadata": {},
   "outputs": [
    {
     "ename": "ImportError",
     "evalue": "No module named 'stl'",
     "output_type": "error",
     "traceback": [
      "\u001b[0;31m---------------------------------------------------------------------------\u001b[0m",
      "\u001b[0;31mImportError\u001b[0m                               Traceback (most recent call last)",
      "\u001b[0;32m<ipython-input-2-65bfa7ebd49e>\u001b[0m in \u001b[0;36m<module>\u001b[0;34m()\u001b[0m\n\u001b[0;32m----> 1\u001b[0;31m \u001b[0;32mfrom\u001b[0m \u001b[0mstl\u001b[0m \u001b[0;32mimport\u001b[0m \u001b[0mmesh\u001b[0m\u001b[0;34m\u001b[0m\u001b[0m\n\u001b[0m\u001b[1;32m      2\u001b[0m \u001b[0;32mfrom\u001b[0m \u001b[0mmpl_toolkits\u001b[0m \u001b[0;32mimport\u001b[0m \u001b[0mmplot3d\u001b[0m\u001b[0;34m\u001b[0m\u001b[0m\n\u001b[1;32m      3\u001b[0m \u001b[0;32mfrom\u001b[0m \u001b[0mmatplotlib\u001b[0m \u001b[0;32mimport\u001b[0m \u001b[0mpyplot\u001b[0m\u001b[0;34m\u001b[0m\u001b[0m\n\u001b[1;32m      4\u001b[0m \u001b[0;31m# Create a new plot\u001b[0m\u001b[0;34m\u001b[0m\u001b[0;34m\u001b[0m\u001b[0m\n\u001b[1;32m      5\u001b[0m \u001b[0mfigure\u001b[0m \u001b[0;34m=\u001b[0m \u001b[0mpyplot\u001b[0m\u001b[0;34m.\u001b[0m\u001b[0mfigure\u001b[0m\u001b[0;34m(\u001b[0m\u001b[0;34m)\u001b[0m\u001b[0;34m\u001b[0m\u001b[0m\n",
      "\u001b[0;31mImportError\u001b[0m: No module named 'stl'"
     ]
    }
   ],
   "source": [
    "import numpy\n",
    "from stl import mesh\n",
    "from mpl_toolkits import mplot3d\n",
    "from matplotlib import pyplot\n",
    "# Create a new plot\n",
    "figure = pyplot.figure()\n",
    "axes = mplot3d.Axes3D(figure)\n",
    "# Load the STL files and add the vectors to the plot\n",
    "your_mesh = mesh.Mesh.from_file('tests/stl_binary/HalfDonut.stl')\n",
    "axes.add_collection3d(mplot3d.art3d.Poly3DCollection(your_mesh.vectors))\n",
    "# Auto scale to the mesh size\n",
    "scale = your_mesh.points.flatten(-1)\n",
    "axes.auto_scale_xyz(scale, scale, scale)\n",
    "# Show the plot to the screen\n",
    "pyplot.show()"
   ]
  },
  {
   "cell_type": "markdown",
   "metadata": {
    "collapsed": true
   },
   "source": [
    "-Get STL ot VPython converter to work\n",
    "-Get Rayleigh-Plesset equation solver to work\n",
    "-Incorporate both features from about to the falling ball model simulation\n",
    "-Do all the finite element analysis that Carr talked about (adding elasticity and stuff to materials and specicify interaction)"
   ]
  },
  {
   "cell_type": "code",
   "execution_count": null,
   "metadata": {
    "collapsed": true
   },
   "outputs": [],
   "source": []
  }
 ],
 "metadata": {
  "kernelspec": {
   "display_name": "Python 3",
   "language": "python",
   "name": "python3"
  },
  "language_info": {
   "codemirror_mode": {
    "name": "ipython",
    "version": 3
   },
   "file_extension": ".py",
   "mimetype": "text/x-python",
   "name": "python",
   "nbconvert_exporter": "python",
   "pygments_lexer": "ipython3",
   "version": "3.6.7"
  }
 },
 "nbformat": 4,
 "nbformat_minor": 2
}
