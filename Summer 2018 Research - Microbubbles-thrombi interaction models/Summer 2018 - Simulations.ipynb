{
 "cells": [
  {
   "cell_type": "markdown",
   "metadata": {},
   "source": [
    "# Notes"
   ]
  },
  {
   "cell_type": "markdown",
   "metadata": {},
   "source": [
    "We are using pressure gauge as a proxy to see if the clot has disolved already or not. Mass and other variables has been used in the pass too.\n",
    "\n",
    "Question/To-Do:\n",
    "-What should be the dimensions of the microbubble and floor (circumference of blood vessel)?\n",
    "-Incorporate streaming.\n",
    "-How long does it take to reach terminal velocity?"
   ]
  },
  {
   "cell_type": "markdown",
   "metadata": {},
   "source": [
    "# Acoustic Radiation Pressure and Stokes Drag"
   ]
  },
  {
   "cell_type": "code",
   "execution_count": 1,
   "metadata": {},
   "outputs": [
    {
     "name": "stdout",
     "output_type": "stream",
     "text": [
      "Acoustic radiation force: 1.3545327031597484e-06\n",
      "Stokes drag: 1.6933184402848988e-09\n",
      "Terminal velocity: 13.998738655032525\n"
     ]
    }
   ],
   "source": [
    "import math\n",
    "\n",
    "#Parameters\n",
    "P_a = 150000 #acoustic pressure amplitude in Pa\n",
    "R_0 = 0.0000022 #equilibrium radius of the bubble in m\n",
    "c = 1500 #speed of sound in water in m/s\n",
    "del_tot = 0.1 #dimensionless damping coefficient\n",
    "kap = 1.07 #dimensionless polytropic index\n",
    "p_0 = 3333.05968538 #hydrostatic liquid pressure outside the bubble in Pa\n",
    "rho = 1060 #density of the fluid surrounding the bubble in kg/m^3\n",
    "mu = 0.0035 #liquid's shear viscosity in Pa*s\n",
    "V = 0.0175 #bubble velocity relative to the liquid in m/s\n",
    "\n",
    "#NOTE: F_arf is a time-averaged force. This formula is only correct at resonance frequency.\n",
    "F_arf = (2*math.pi*(P_a**2)*(R_0**2))/(c*del_tot*math.sqrt(3*kap*p_0*rho))\n",
    "\n",
    "#NOTE: F_drag is a time-averaged force. This formula is only correct for low Reynolds number.\n",
    "F_drag = 4*math.pi*mu*V*R_0\n",
    "\n",
    "#Terminal velocity (Obtained by equating F_arf and F_drag and solving for v)\n",
    "V_ter = (P_a**2*R_0)/(2*c*mu*del_tot*math.sqrt(3*kap*p_0*rho))\n",
    "\n",
    "print('Acoustic radiation force:',F_arf)\n",
    "print('Stokes drag:',F_drag)\n",
    "print('Terminal velocity:',V_ter)\n",
    "\n",
    "\n",
    "\n",
    "##########-----NOTES ON PARAMETERS-----##########\n",
    "#PARAMETERS\n",
    "#P_a, acoustic pressure amplitude in Pa\n",
    "#R_0, equilibrium radius of the bubble in m\n",
    "#c, #speed of sound in water in m/s\n",
    "#del_tot, #dimensionless damping coefficient:Here, del_tot = del_rad + del_th + del_ vis\n",
    "#kap, #dimensionless polytropic index: This is from Doinikov et al \"Resonance frequencies of lipid-shelled microbubbles...\", page 4\n",
    "#p_0, #hydrostatic liquid pressure outside the bubble in Pa: We can assume 25 mm Hg, where 1 mm Hg = 133.322387415 Pa. Should we use 1 ATM = 101325 Pa instead?\n",
    "#rho, #density of the fluid surrounding the bubble in kg/m^3\n",
    "#mu, #liquid's shear viscosity in Pa*s: It is 3 to 4 mPa*s for blood, and 1 mPA*s for water.\n",
    "#V, #bubble velocity relative to the liquid in m/s: The range is 0.5-3.0 cm/s for Definity at p^-=0.346 MPa^-.\n",
    "    "
   ]
  },
  {
   "cell_type": "markdown",
   "metadata": {},
   "source": [
    "# Simulation: Sphere in free-fall"
   ]
  },
  {
   "cell_type": "code",
   "execution_count": 5,
   "metadata": {},
   "outputs": [
    {
     "data": {
      "text/html": [
       "<div id=\"glowscript\" class=\"glowscript\"></div>"
      ],
      "text/plain": [
       "<IPython.core.display.HTML object>"
      ]
     },
     "metadata": {},
     "output_type": "display_data"
    },
    {
     "data": {
      "application/javascript": [
       "window.__context = { glowscript_container: $(\"#glowscript\").removeAttr(\"id\")}"
      ],
      "text/plain": [
       "<IPython.core.display.Javascript object>"
      ]
     },
     "metadata": {},
     "output_type": "display_data"
    },
    {
     "name": "stdout",
     "output_type": "stream",
     "text": [
      " database. History logging moved to new session Position: 200.0\n",
      "Instantaneous velocity: -0.0\n",
      "274\n",
      "Position: 199.949954086\n",
      "Instantaneous velocity: 0.990909090909\n",
      "Position: Position: 198.748852158\n",
      "Instantaneous velocity: 4.95454545455\n",
      "Position: 198.198347107\n",
      "Instantaneous velocity: 5.94545454545\n",
      "Position: 191.542240588\n",
      "Instantaneous velocity: 12.8818181818\n",
      "Position: 187.188246097\n",
      "Instantaneous velocity: 15.8545454545\n",
      "Position: 185.536730946\n",
      "Instantaneous velocity: 16.8454545455\n",
      "Position: 183.785123967\n",
      "Instantaneous velocity: 17.8363636364\n",
      "Position:Position:Position: 173.525711662\n",
      "Instantaneous velocity:Position: Position: 163.516528926\n",
      "Instantaneous velocity:Position: 151.905876951\n",
      "Instantaneous velocity: 30.7181818182\n",
      "Position: 135.140495868\n",
      "Instantaneous velocity: 35.6727272727\n",
      "Position: 131.487144169\n",
      "Instantaneous velocity: 36.6636363636\n",
      "Position: 103.111111111\n",
      "Instantaneous velocity: 43.6\n",
      "Position: 98.6570247934\n",
      "Instantaneous velocity: 44.5909090909\n",
      "Position: 79.8397612489\n",
      "Instantaneous velocity: 48.5545454545\n",
      "Position: 74.8852157943\n",
      "Instantaneous velocity: 49.5454545455\n",
      "Position: 64.6758494031\n",
      "Instantaneous velocity: 51.5272727273\n",
      "Position: 1.36776859504\n",
      "Instantaneous velocity: 62.4272727273\n",
      "Position: 0\n",
      "Instantaneous velocity: 62.6418390534633\n",
      "Time it touches the floor: 6.385508568141009\n",
      "End of program\n"
     ]
    }
   ],
   "source": [
    "from vpython import *\n",
    "import math\n",
    "import numpy as np\n",
    "scene = canvas(title='Sphere in free-fall',width=600,height=600,center=vector(0,20,0)) #initialize vpython window\n",
    "\n",
    "g = 9.81 #gravitational acceleration in m/s^2 \n",
    "m = 1 #mass of the ball in kg\n",
    "p0 = 200 #initial height in m\n",
    "v0 = 0 #initial velocity in m/s\n",
    "\n",
    "ball = sphere(pos=vector(0,p0,0), radius=5) #initialize ball\n",
    "floor = box(pos=vector(0,0,0), size=vector(200,0.25,200)) #initialize floor\n",
    "\n",
    "for t in np.linspace(0,10,100): #time in s (how many seconds the ball is in the air)\n",
    "    rate(10)\n",
    "    pt = p0 + v0*t - g*t**2/2.0\n",
    "    vt = v0 - g*t #NOTE: Velocity is negative in the downward direction (direction of the vector)\n",
    "    if pt <= 0: #if it reaches or goes through the floor, stop\n",
    "        pt = 0\n",
    "        vt = v0 - g*((v0+math.sqrt(v0**2+2*g*p0))/(g)) #This is time at pt = 0\n",
    "        ball.pos.y = pt\n",
    "        print('Position:',pt)\n",
    "        print('Instantaneous velocity:',-vt)\n",
    "        print('Time it touches the floor:',(v0+math.sqrt(v0**2+2*g*p0))/(g))\n",
    "        break\n",
    "    ball.pos.y = pt\n",
    "    print('Position:',pt)\n",
    "    print('Instantaneous velocity:',-vt)\n",
    "\n",
    "print('End of program')"
   ]
  },
  {
   "cell_type": "markdown",
   "metadata": {},
   "source": [
    "# Simulation: Bubble moved by ARF through blood clot"
   ]
  },
  {
   "cell_type": "code",
   "execution_count": 1,
   "metadata": {},
   "outputs": [
    {
     "ename": "ModuleNotFoundError",
     "evalue": "No module named 'vpython'",
     "output_type": "error",
     "traceback": [
      "\u001b[0;31m---------------------------------------------------------------------------\u001b[0m",
      "\u001b[0;31mModuleNotFoundError\u001b[0m                       Traceback (most recent call last)",
      "\u001b[0;32m<ipython-input-1-ea29e3692430>\u001b[0m in \u001b[0;36m<module>\u001b[0;34m\u001b[0m\n\u001b[0;32m----> 1\u001b[0;31m \u001b[0;32mfrom\u001b[0m \u001b[0mvpython\u001b[0m \u001b[0;32mimport\u001b[0m \u001b[0;34m*\u001b[0m\u001b[0;34m\u001b[0m\u001b[0;34m\u001b[0m\u001b[0m\n\u001b[0m\u001b[1;32m      2\u001b[0m \u001b[0;32mimport\u001b[0m \u001b[0mnumpy\u001b[0m \u001b[0;32mas\u001b[0m \u001b[0mnp\u001b[0m\u001b[0;34m\u001b[0m\u001b[0;34m\u001b[0m\u001b[0m\n\u001b[1;32m      3\u001b[0m \u001b[0mscene\u001b[0m \u001b[0;34m=\u001b[0m \u001b[0mcanvas\u001b[0m\u001b[0;34m(\u001b[0m\u001b[0mtitle\u001b[0m\u001b[0;34m=\u001b[0m\u001b[0;34m'Bubble moved by ARF through blood clot'\u001b[0m\u001b[0;34m,\u001b[0m\u001b[0mwidth\u001b[0m\u001b[0;34m=\u001b[0m\u001b[0;36m600\u001b[0m\u001b[0;34m,\u001b[0m\u001b[0mheight\u001b[0m\u001b[0;34m=\u001b[0m\u001b[0;36m600\u001b[0m\u001b[0;34m,\u001b[0m\u001b[0mcenter\u001b[0m\u001b[0;34m=\u001b[0m\u001b[0mvector\u001b[0m\u001b[0;34m(\u001b[0m\u001b[0;36m0\u001b[0m\u001b[0;34m,\u001b[0m\u001b[0;36m10\u001b[0m\u001b[0;34m,\u001b[0m\u001b[0;36m0\u001b[0m\u001b[0;34m)\u001b[0m\u001b[0;34m)\u001b[0m\u001b[0;34m\u001b[0m\u001b[0;34m\u001b[0m\u001b[0m\n\u001b[1;32m      4\u001b[0m \u001b[0;34m\u001b[0m\u001b[0m\n\u001b[1;32m      5\u001b[0m \u001b[0ma\u001b[0m \u001b[0;34m=\u001b[0m \u001b[0;36m1.3545327031597484e-03\u001b[0m\u001b[0;34m/\u001b[0m\u001b[0;36m3.3e-8\u001b[0m \u001b[0;31m#acceleration due to F_arf in mm/μs^2\u001b[0m\u001b[0;34m\u001b[0m\u001b[0;34m\u001b[0m\u001b[0m\n",
      "\u001b[0;31mModuleNotFoundError\u001b[0m: No module named 'vpython'"
     ]
    }
   ],
   "source": [
    "from vpython import *\n",
    "import numpy as np\n",
    "scene = canvas(title='Bubble moved by ARF through blood clot',width=600,height=600,center=vector(0,10,0))\n",
    "\n",
    "a = 1.3545327031597484e-03/3.3e-8 #acceleration due to F_arf in mm/μs^2\n",
    "m = 3.3e-14 #mass of the bubble in kg (NOTE: Using RBC for now; each blood cell has 33 pg of mass)\n",
    "p0 = 25 #initial height in mm\n",
    "v0 = 0 #initial velocity in mm/μs\n",
    "t = 0 #time in s\n",
    "\n",
    "bubble = sphere(pos=vector(0,p0,0), radius=0.005) #Dimensions of the bubble\n",
    "floor = box(pos=vector(0,0,0), size=vector(5,0.00625,5)) #Dimensions of the bubble veins/artery (-ish; also, is this in μm?)\n",
    "\n",
    "for t in np.linspace(0,1,1000000): #time in s (how many seconds the bubble is moving)\n",
    "    rate(10)\n",
    "    pt = p0 + v0*t - a*t**2/2.0\n",
    "    vt = v0 - a*t #NOTE: Velocity is negative in the downward direction (direction of the vector)\n",
    "    if pt <= 0: #if it reaches or goes past the end, stop\n",
    "        pt = 0\n",
    "        vt = v0 - a*((v0+math.sqrt(v0**2+2*a*p0))/(a)) #This is time at pt = 0\n",
    "        bubble.pos.y = pt\n",
    "        print('Position:',pt)\n",
    "        print('Instantaneous velocity:',-vt)\n",
    "        print('Time it touches the floor:',(v0+math.sqrt(v0**2+2*a*p0))/(a))\n",
    "        break\n",
    "    bubble.pos.y = pt\n",
    "    print('Position:',pt)\n",
    "    print('Instantaneous velocity:',-vt)\n",
    "\n",
    "print('End of program')"
   ]
  },
  {
   "cell_type": "code",
   "execution_count": null,
   "metadata": {
    "collapsed": true
   },
   "outputs": [],
   "source": []
  }
 ],
 "metadata": {
  "kernelspec": {
   "display_name": "Python 3",
   "language": "python",
   "name": "python3"
  },
  "language_info": {
   "codemirror_mode": {
    "name": "ipython",
    "version": 3
   },
   "file_extension": ".py",
   "mimetype": "text/x-python",
   "name": "python",
   "nbconvert_exporter": "python",
   "pygments_lexer": "ipython3",
   "version": "3.6.7"
  }
 },
 "nbformat": 4,
 "nbformat_minor": 2
}
